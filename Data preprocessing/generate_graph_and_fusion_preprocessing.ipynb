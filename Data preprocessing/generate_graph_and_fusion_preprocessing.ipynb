{
 "cells": [
  {
   "cell_type": "code",
   "execution_count": 1,
   "id": "03d1b795",
   "metadata": {},
   "outputs": [
    {
     "name": "stderr",
     "output_type": "stream",
     "text": [
      "C:\\Users\\USER\\anaconda3\\envs\\toxpred\\lib\\site-packages\\tqdm\\auto.py:21: TqdmWarning: IProgress not found. Please update jupyter and ipywidgets. See https://ipywidgets.readthedocs.io/en/stable/user_install.html\n",
      "  from .autonotebook import tqdm as notebook_tqdm\n"
     ]
    }
   ],
   "source": [
    "import optuna\n",
    "from optuna import Trial\n",
    "\n",
    "from math import sqrt\n",
    "from typing import Tuple, List\n",
    "\n",
    "import numpy as np\n",
    "import pandas as pd\n",
    "from mordred import Calculator, descriptors\n",
    "#import openbabel\n",
    "from openbabel import pybel\n",
    "from PyBioMed.PyMolecule.fingerprint import CalculatePubChemFingerprint,CalculateECFP2Fingerprint\n",
    "from rdkit import Chem\n",
    "from rdkit.Chem.rdchem import Atom\n",
    "\n",
    "from sklearn.utils import shuffle\n",
    "from sklearn.model_selection import train_test_split\n",
    "\n",
    "from sklearn.metrics import f1_score\n",
    "from sklearn.metrics import accuracy_score, confusion_matrix, matthews_corrcoef, roc_curve, auc \n",
    "from sklearn.metrics import precision_recall_curve\n",
    "\n",
    "from sklearn.model_selection import StratifiedKFold, KFold\n",
    "\n",
    "\n",
    "from torch_geometric.data import Data\n",
    "from torch_geometric.loader import DataLoader as G_Loader \n",
    "from torch_geometric.nn import GCNConv, GATConv\n",
    "from torch_geometric.nn import global_mean_pool\n",
    "from torch_geometric.nn import BatchNorm\n",
    "\n",
    "\n",
    "# RDkit\n",
    "from rdkit import Chem\n",
    "from rdkit.Chem.rdmolops import GetAdjacencyMatrix\n",
    "\n",
    "from rdkit import Chem\n",
    "from rdkit.Chem import MACCSkeys\n",
    "from rdkit.Chem import rdMolDescriptors\n",
    "from rdkit import DataStructs\n",
    "\n",
    "\n",
    "# Pytorch and Pytorch Geometric\n",
    "import torch\n",
    "\n",
    "import torch.nn as nn\n",
    "from torch.nn import Linear\n",
    "import torch.optim as optim\n",
    "import torch.nn.functional as F # activation function\n",
    "from torch.utils.data import Dataset\n",
    "from torch.utils.data import DataLoader as V_Loader # dataset management\n",
    "\n",
    "\n",
    "%run ./graph_feature.ipynb \n",
    "%run ./dataset_processing.ipynb "
   ]
  },
  {
   "cell_type": "code",
   "execution_count": 2,
   "id": "149ce158",
   "metadata": {},
   "outputs": [],
   "source": [
    "def compute_fingerprint_ECFP2(smiles_list: List[str]) -> np.ndarray:\n",
    "    \"\"\"\n",
    "    Compute ECFP2 & PubChem fingerprint features for a list \n",
    "    of SMILES strings\n",
    "\n",
    "    Parameters\n",
    "    ----------\n",
    "    smiles_list: List[str]\n",
    "        The list of SMILES strings.\n",
    "\n",
    "    Returns\n",
    "    -------\n",
    "    np.ndarray\n",
    "        Returns a 2D numpy array, where each row corrsponds\n",
    "        to the fingerprints of a SMILES strings in order.\n",
    "    \"\"\"\n",
    "    molecular_mols = [Chem.MolFromSmiles(smi) for smi in smiles_list]\n",
    "    # Initialize an array to store ECFP2 & PubChem fingerprint features\n",
    "    features = np.zeros((len(smiles_list), 1024), dtype=np.int32)\n",
    "\n",
    "    for i, mol in enumerate(molecular_mols):\n",
    "        ECFP2_mol_fingerprint = CalculateECFP2Fingerprint(mol)\n",
    "        numerical_representation = ECFP2_mol_fingerprint[0]\n",
    "        features[i] = numerical_representation\n",
    "\n",
    "    return features\n",
    "\n",
    "\n",
    "def compute_fingerprint_PubChem(smiles_list: List[str]) -> np.ndarray:\n",
    "    \"\"\"\n",
    "    Compute ECFP2 & PubChem fingerprint features for a list \n",
    "    of SMILES strings\n",
    "\n",
    "    Parameters\n",
    "    ----------\n",
    "    smiles_list: List[str]\n",
    "        The list of SMILES strings.\n",
    "\n",
    "    Returns\n",
    "    -------\n",
    "    np.ndarray\n",
    "        Returns a 2D numpy array, where each row corrsponds\n",
    "        to the fingerprints of a SMILES strings in order.\n",
    "    \"\"\"\n",
    "    molecular_mols = [Chem.MolFromSmiles(smi) for smi in smiles_list]\n",
    "    # Initialize an array to store ECFP2 & PubChem fingerprint features\n",
    "    features = np.zeros((len(smiles_list), 881), dtype=np.int32)\n",
    "\n",
    "    for i, mol in enumerate(molecular_mols):\n",
    "        pubchem_mol_fingerprint = CalculatePubChemFingerprint(mol)\n",
    "        numerical_representation =  pubchem_mol_fingerprint\n",
    "        features[i] = numerical_representation\n",
    "\n",
    "    return features\n",
    "\n",
    "def compute_fingerprint_MACCS(smiles_list: List[str]) -> np.ndarray:\n",
    "    \"\"\"\n",
    "    Compute ECFP2 & PubChem fingerprint features for a list \n",
    "    of SMILES strings\n",
    "\n",
    "    Parameters\n",
    "    ----------\n",
    "    smiles_list: List[str]\n",
    "        The list of SMILES strings.\n",
    "\n",
    "    Returns\n",
    "    -------\n",
    "    np.ndarray\n",
    "        Returns a 2D numpy array, where each row corrsponds\n",
    "        to the fingerprints of a SMILES strings in order.\n",
    "    \"\"\"\n",
    "    molecular_mols = [Chem.MolFromSmiles(smi) for smi in smiles_list]\n",
    "    # Initialize an array to store ECFP2 & PubChem fingerprint features\n",
    "    features = np.zeros((len(smiles_list), 166), dtype=np.int32)\n",
    "\n",
    "    for i, mol in enumerate(molecular_mols):\n",
    "        one_fingerp =MACCSkeys.GenMACCSKeys(mol)\n",
    "        list_one_fingerp = list(one_fingerp)\n",
    "        del list_one_fingerp[0]\n",
    "        numerical_representation = np.array(list_one_fingerp,dtype=np.int64)\n",
    "        features[i] = numerical_representation\n",
    "\n",
    "    return features\n",
    "\n",
    "def compute_descriptor_features(smiles_list: List[str]) -> pd.DataFrame:\n",
    "    \"\"\"\n",
    "    Compute 2D descriptor features for a list of SMILES strings\n",
    "\n",
    "    Parameters\n",
    "    ----------\n",
    "    smiles_list: List[str]\n",
    "        The list of SMILES strings.\n",
    "\n",
    "    Returns\n",
    "    -------\n",
    "    np.ndarray\n",
    "        Returns a pandas dataframe, where each row corrsponds\n",
    "        to the descriptors of a SMILES strings in order.\n",
    "    \"\"\"\n",
    "    descriptor_calc_2D = Calculator(descriptors, ignore_3D=True)\n",
    "    molecular_mols = [Chem.MolFromSmiles(smi) for smi in smiles_list]\n",
    "    descriptors_2D = descriptor_calc_2D.pandas(molecular_mols)\n",
    "    return descriptors_2D\n"
   ]
  },
  {
   "cell_type": "code",
   "execution_count": 3,
   "id": "f8c359fa",
   "metadata": {},
   "outputs": [],
   "source": [
    "# GET ALL DATA \n",
    "pd_smiles,pd_labels = get_dataset('DILI-Dataset.csv')\n",
    "\n",
    "# SPLIT DATA TRAIN AND TEST 80 AND 20 \n",
    "X_train, X_test, y_train, y_test = train_test_split(pd_smiles, pd_labels, test_size=0.2, random_state=42)"
   ]
  },
  {
   "cell_type": "code",
   "execution_count": 4,
   "id": "b9a04677",
   "metadata": {},
   "outputs": [],
   "source": [
    "pd_smiles_train = X_train\n",
    "pd_smiles_test = X_test\n",
    "pd_labels_train = y_train\n",
    "pd_labels_test = y_test"
   ]
  },
  {
   "cell_type": "code",
   "execution_count": 5,
   "id": "48abb357",
   "metadata": {},
   "outputs": [],
   "source": [
    "list_y_smiles                   = list(pd_labels_train)\n",
    "list_y_smiles_test              = list(pd_labels_test)\n",
    "list_X_smiles                   = list(pd_smiles_train) \n",
    "list_X_smiles_test              = list(pd_smiles_test) "
   ]
  },
  {
   "cell_type": "code",
   "execution_count": 6,
   "id": "2eafcbfc",
   "metadata": {},
   "outputs": [],
   "source": [
    "# SHUFFLE FROM THE BEGINNInG \n",
    "# SHUFFLE TO SPREAD THE DATA WITH LABEL 0 AND 1 RANDOMLY AND CREATE K-FOLD CROSSVALIDATION\n",
    "# ========================================================================================\n",
    "k                               = 10\n",
    "X_1,y_1                         = shuffle(list_X_smiles, list_y_smiles)\n",
    "train_data                      = X_1\n",
    "train_targets                   = y_1\n",
    "all_train_indices, all_val_indices, total_train_data,total_train_targets,total_validation_data,total_validation_targets = CF_Validation_version_2(k,train_data,train_targets)"
   ]
  },
  {
   "cell_type": "code",
   "execution_count": 7,
   "id": "b59bc150",
   "metadata": {},
   "outputs": [
    {
     "data": {
      "text/plain": [
       "[1132, 1132, 1132, 1132, 1132, 1132, 1132, 1132, 1133, 1133]"
      ]
     },
     "execution_count": 7,
     "metadata": {},
     "output_type": "execute_result"
    }
   ],
   "source": [
    "all_train_indices "
   ]
  },
  {
   "cell_type": "code",
   "execution_count": 8,
   "id": "abd25e84",
   "metadata": {},
   "outputs": [],
   "source": [
    "# save all the index \n",
    "# train, validation, and test \n",
    "np.save('train_indices.npy', all_train_indices)\n",
    "np.save('val_indices.npy', all_val_indices)\n",
    "np.save('test_indices.npy', len(list_X_smiles_test))"
   ]
  },
  {
   "cell_type": "code",
   "execution_count": 9,
   "id": "83ceb4e2",
   "metadata": {},
   "outputs": [],
   "source": [
    "# CONVERT TO VEC DATA FROM SMILES AFTER CROSS FOLD VALIDATION \n",
    "def convert2vec(input_data_smiles):\n",
    "    fingerp_ECFP2 = compute_fingerprint_ECFP2(input_data_smiles)\n",
    "    fingerp_PubChem = compute_fingerprint_PubChem(input_data_smiles)\n",
    "    fingerp_MACCS = compute_fingerprint_MACCS(input_data_smiles)\n",
    "    descriptors = compute_descriptor_features(input_data_smiles)\n",
    "    \n",
    "    return descriptors, fingerp_ECFP2,fingerp_PubChem,fingerp_MACCS\n",
    "\n",
    "# convert the total train , validation, and test into vector data\n",
    "def convert2vec_group(total_data):\n",
    "    data_ECFP2 = [] \n",
    "    data_PubChem = []  \n",
    "    data_MACCS = []  \n",
    "    data_Desc = []  \n",
    "    if len(total_data)> 2: # for data train and validation \n",
    "        for one_fold in total_data:\n",
    "            collected_data = convert2vec(one_fold)\n",
    "            data_Desc.append(collected_data[0])\n",
    "            data_ECFP2.append(collected_data[1])\n",
    "            data_PubChem.append(collected_data[2])\n",
    "            data_MACCS.append(collected_data[3])\n",
    "    else : # for data test \n",
    "        collected_data = convert2vec(total_data[0])\n",
    "        data_Desc.append(collected_data[0])\n",
    "        data_ECFP2.append(collected_data[1])\n",
    "        data_PubChem.append(collected_data[2])\n",
    "        data_MACCS.append(collected_data[3])\n",
    "        \n",
    "    return data_Desc,data_ECFP2,data_PubChem,data_MACCS"
   ]
  },
  {
   "cell_type": "code",
   "execution_count": 11,
   "id": "b36d93b8",
   "metadata": {},
   "outputs": [
    {
     "name": "stderr",
     "output_type": "stream",
     "text": [
      "  1%|▌                                                                                | 7/1132 [00:03<07:38,  2.45it/s]"
     ]
    },
    {
     "name": "stdout",
     "output_type": "stream",
     "text": [
      "C:\\Users\\USER\\anaconda3\\envs\\toxpred\\lib\\site-packages\\numpy\\core\\fromnumeric.py:86: RuntimeWarning: overflow encountered in reduce\n",
      "  return ufunc.reduce(obj, axis, dtype, out, **passkwargs)\n"
     ]
    },
    {
     "name": "stderr",
     "output_type": "stream",
     "text": [
      "  6%|█████                                                                           | 72/1132 [00:07<01:15, 14.01it/s]"
     ]
    },
    {
     "name": "stdout",
     "output_type": "stream",
     "text": [
      "C:\\Users\\USER\\anaconda3\\envs\\toxpred\\lib\\site-packages\\numpy\\core\\fromnumeric.py:86: RuntimeWarning: overflow encountered in reduce\n",
      "  return ufunc.reduce(obj, axis, dtype, out, **passkwargs)\n"
     ]
    },
    {
     "name": "stderr",
     "output_type": "stream",
     "text": [
      "  8%|██████▌                                                                         | 93/1132 [00:10<02:27,  7.02it/s]"
     ]
    },
    {
     "name": "stdout",
     "output_type": "stream",
     "text": [
      "C:\\Users\\USER\\anaconda3\\envs\\toxpred\\lib\\site-packages\\numpy\\core\\fromnumeric.py:86: RuntimeWarning: overflow encountered in reduce\n",
      "  return ufunc.reduce(obj, axis, dtype, out, **passkwargs)\n",
      "C:\\Users\\USER\\anaconda3\\envs\\toxpred\\lib\\site-packages\\numpy\\core\\fromnumeric.py:86: RuntimeWarning: overflow encountered in reduce\n",
      "  return ufunc.reduce(obj, axis, dtype, out, **passkwargs)\n"
     ]
    },
    {
     "name": "stderr",
     "output_type": "stream",
     "text": [
      " 12%|█████████▏                                                                     | 131/1132 [00:15<02:45,  6.06it/s]"
     ]
    },
    {
     "name": "stdout",
     "output_type": "stream",
     "text": [
      "C:\\Users\\USER\\anaconda3\\envs\\toxpred\\lib\\site-packages\\numpy\\core\\fromnumeric.py:86: RuntimeWarning: overflow encountered in reduce\n",
      "  return ufunc.reduce(obj, axis, dtype, out, **passkwargs)\n"
     ]
    },
    {
     "name": "stderr",
     "output_type": "stream",
     "text": [
      " 12%|█████████▎                                                                     | 134/1132 [00:19<05:41,  2.92it/s]"
     ]
    },
    {
     "name": "stdout",
     "output_type": "stream",
     "text": [
      "C:\\Users\\USER\\anaconda3\\envs\\toxpred\\lib\\site-packages\\numpy\\core\\fromnumeric.py:86: RuntimeWarning: overflow encountered in reduce\n",
      "  return ufunc.reduce(obj, axis, dtype, out, **passkwargs)\n"
     ]
    },
    {
     "name": "stderr",
     "output_type": "stream",
     "text": [
      " 15%|███████████▌                                                                   | 165/1132 [00:19<04:34,  3.52it/s]"
     ]
    },
    {
     "name": "stdout",
     "output_type": "stream",
     "text": [
      "C:\\Users\\USER\\anaconda3\\envs\\toxpred\\lib\\site-packages\\numpy\\core\\fromnumeric.py:86: RuntimeWarning: overflow encountered in reduce\n",
      "  return ufunc.reduce(obj, axis, dtype, out, **passkwargs)\n",
      "C:\\Users\\USER\\anaconda3\\envs\\toxpred\\lib\\site-packages\\numpy\\core\\fromnumeric.py:86: RuntimeWarning: overflow encountered in reduce\n",
      "  return ufunc.reduce(obj, axis, dtype, out, **passkwargs)\n"
     ]
    },
    {
     "name": "stderr",
     "output_type": "stream",
     "text": [
      " 22%|█████████████████▏                                                             | 246/1132 [00:24<00:49, 17.84it/s]"
     ]
    },
    {
     "name": "stdout",
     "output_type": "stream",
     "text": [
      "C:\\Users\\USER\\anaconda3\\envs\\toxpred\\lib\\site-packages\\numpy\\core\\fromnumeric.py:86: RuntimeWarning: overflow encountered in reduce\n",
      "  return ufunc.reduce(obj, axis, dtype, out, **passkwargs)\n"
     ]
    },
    {
     "name": "stderr",
     "output_type": "stream",
     "text": [
      " 26%|████████████████████▏                                                          | 290/1132 [00:28<01:24,  9.98it/s]"
     ]
    },
    {
     "name": "stdout",
     "output_type": "stream",
     "text": [
      "C:\\Users\\USER\\anaconda3\\envs\\toxpred\\lib\\site-packages\\numpy\\core\\fromnumeric.py:86: RuntimeWarning: overflow encountered in reduce\n",
      "  return ufunc.reduce(obj, axis, dtype, out, **passkwargs)\n"
     ]
    },
    {
     "name": "stderr",
     "output_type": "stream",
     "text": [
      " 32%|█████████████████████████                                                      | 359/1132 [00:32<00:40, 18.92it/s]"
     ]
    },
    {
     "name": "stdout",
     "output_type": "stream",
     "text": [
      "C:\\Users\\USER\\anaconda3\\envs\\toxpred\\lib\\site-packages\\numpy\\core\\fromnumeric.py:86: RuntimeWarning: overflow encountered in reduce\n",
      "  return ufunc.reduce(obj, axis, dtype, out, **passkwargs)\n"
     ]
    },
    {
     "name": "stderr",
     "output_type": "stream",
     "text": [
      " 36%|████████████████████████████▎                                                  | 405/1132 [00:40<01:35,  7.62it/s]"
     ]
    },
    {
     "name": "stdout",
     "output_type": "stream",
     "text": [
      "C:\\Users\\USER\\anaconda3\\envs\\toxpred\\lib\\site-packages\\numpy\\core\\fromnumeric.py:86: RuntimeWarning: overflow encountered in reduce\n",
      "  return ufunc.reduce(obj, axis, dtype, out, **passkwargs)\n"
     ]
    },
    {
     "name": "stderr",
     "output_type": "stream",
     "text": [
      "100%|██████████████████████████████████████████████████████████████████████████████| 1132/1132 [02:05<00:00,  9.02it/s]\n",
      "  2%|█▉                                                                              | 27/1132 [00:05<03:45,  4.90it/s]"
     ]
    },
    {
     "name": "stdout",
     "output_type": "stream",
     "text": [
      "C:\\Users\\USER\\anaconda3\\envs\\toxpred\\lib\\site-packages\\numpy\\core\\fromnumeric.py:86: RuntimeWarning: overflow encountered in reduce\n",
      "  return ufunc.reduce(obj, axis, dtype, out, **passkwargs)\n",
      "C:\\Users\\USER\\anaconda3\\envs\\toxpred\\lib\\site-packages\\numpy\\core\\fromnumeric.py:86: RuntimeWarning: overflow encountered in reduce\n",
      "  return ufunc.reduce(obj, axis, dtype, out, **passkwargs)\n"
     ]
    },
    {
     "name": "stderr",
     "output_type": "stream",
     "text": [
      "  7%|█████▎                                                                          | 75/1132 [00:10<03:20,  5.26it/s]"
     ]
    },
    {
     "name": "stdout",
     "output_type": "stream",
     "text": [
      "C:\\Users\\USER\\anaconda3\\envs\\toxpred\\lib\\site-packages\\numpy\\core\\fromnumeric.py:86: RuntimeWarning: overflow encountered in reduce\n",
      "  return ufunc.reduce(obj, axis, dtype, out, **passkwargs)\n",
      "C:\\Users\\USER\\anaconda3\\envs\\toxpred\\lib\\site-packages\\numpy\\core\\fromnumeric.py:86: RuntimeWarning: overflow encountered in reduce\n",
      "  return ufunc.reduce(obj, axis, dtype, out, **passkwargs)\n"
     ]
    },
    {
     "name": "stderr",
     "output_type": "stream",
     "text": [
      " 10%|███████▉                                                                       | 114/1132 [00:15<03:30,  4.85it/s]"
     ]
    },
    {
     "name": "stdout",
     "output_type": "stream",
     "text": [
      "C:\\Users\\USER\\anaconda3\\envs\\toxpred\\lib\\site-packages\\numpy\\core\\fromnumeric.py:86: RuntimeWarning: overflow encountered in reduce\n",
      "  return ufunc.reduce(obj, axis, dtype, out, **passkwargs)\n",
      "C:\\Users\\USER\\anaconda3\\envs\\toxpred\\lib\\site-packages\\numpy\\core\\fromnumeric.py:86: RuntimeWarning: overflow encountered in reduce\n",
      "  return ufunc.reduce(obj, axis, dtype, out, **passkwargs)\n"
     ]
    },
    {
     "name": "stderr",
     "output_type": "stream",
     "text": [
      " 12%|█████████▋                                                                     | 139/1132 [00:32<06:51,  2.41it/s]"
     ]
    },
    {
     "name": "stdout",
     "output_type": "stream",
     "text": [
      "C:\\Users\\USER\\anaconda3\\envs\\toxpred\\lib\\site-packages\\numpy\\core\\fromnumeric.py:86: RuntimeWarning: overflow encountered in reduce\n",
      "  return ufunc.reduce(obj, axis, dtype, out, **passkwargs)\n",
      "C:\\Users\\USER\\anaconda3\\envs\\toxpred\\lib\\site-packages\\numpy\\core\\fromnumeric.py:86: RuntimeWarning: overflow encountered in reduce\n",
      "  return ufunc.reduce(obj, axis, dtype, out, **passkwargs)\n",
      "C:\\Users\\USER\\anaconda3\\envs\\toxpred\\lib\\site-packages\\numpy\\core\\fromnumeric.py:86: RuntimeWarning: overflow encountered in reduce\n",
      "  return ufunc.reduce(obj, axis, dtype, out, **passkwargs)\n"
     ]
    },
    {
     "name": "stderr",
     "output_type": "stream",
     "text": [
      " 16%|████████████▌                                                                  | 180/1132 [00:35<03:37,  4.38it/s]"
     ]
    },
    {
     "name": "stdout",
     "output_type": "stream",
     "text": [
      "C:\\Users\\USER\\anaconda3\\envs\\toxpred\\lib\\site-packages\\numpy\\core\\fromnumeric.py:86: RuntimeWarning: overflow encountered in reduce\n",
      "  return ufunc.reduce(obj, axis, dtype, out, **passkwargs)\n"
     ]
    },
    {
     "name": "stderr",
     "output_type": "stream",
     "text": [
      " 21%|████████████████▌                                                              | 238/1132 [00:38<01:19, 11.18it/s]"
     ]
    },
    {
     "name": "stdout",
     "output_type": "stream",
     "text": [
      "C:\\Users\\USER\\anaconda3\\envs\\toxpred\\lib\\site-packages\\numpy\\core\\fromnumeric.py:86: RuntimeWarning: overflow encountered in reduce\n",
      "  return ufunc.reduce(obj, axis, dtype, out, **passkwargs)\n"
     ]
    },
    {
     "name": "stderr",
     "output_type": "stream",
     "text": [
      " 31%|████████████████████████▊                                                      | 356/1132 [00:46<00:46, 16.58it/s]"
     ]
    },
    {
     "name": "stdout",
     "output_type": "stream",
     "text": [
      "C:\\Users\\USER\\anaconda3\\envs\\toxpred\\lib\\site-packages\\numpy\\core\\fromnumeric.py:86: RuntimeWarning: overflow encountered in reduce\n",
      "  return ufunc.reduce(obj, axis, dtype, out, **passkwargs)\n"
     ]
    },
    {
     "name": "stderr",
     "output_type": "stream",
     "text": [
      "100%|██████████████████████████████████████████████████████████████████████████████| 1132/1132 [02:22<00:00,  7.93it/s]\n",
      "  2%|█▉                                                                              | 28/1132 [00:05<03:22,  5.44it/s]"
     ]
    },
    {
     "name": "stdout",
     "output_type": "stream",
     "text": [
      "C:\\Users\\USER\\anaconda3\\envs\\toxpred\\lib\\site-packages\\numpy\\core\\fromnumeric.py:86: RuntimeWarning: overflow encountered in reduce\n",
      "  return ufunc.reduce(obj, axis, dtype, out, **passkwargs)\n",
      "C:\\Users\\USER\\anaconda3\\envs\\toxpred\\lib\\site-packages\\numpy\\core\\fromnumeric.py:86: RuntimeWarning: overflow encountered in reduce\n",
      "  return ufunc.reduce(obj, axis, dtype, out, **passkwargs)\n"
     ]
    },
    {
     "name": "stderr",
     "output_type": "stream",
     "text": [
      "  7%|█████▎                                                                          | 75/1132 [00:10<03:44,  4.70it/s]"
     ]
    },
    {
     "name": "stdout",
     "output_type": "stream",
     "text": [
      "C:\\Users\\USER\\anaconda3\\envs\\toxpred\\lib\\site-packages\\numpy\\core\\fromnumeric.py:86: RuntimeWarning: overflow encountered in reduce\n",
      "  return ufunc.reduce(obj, axis, dtype, out, **passkwargs)\n",
      "C:\\Users\\USER\\anaconda3\\envs\\toxpred\\lib\\site-packages\\numpy\\core\\fromnumeric.py:86: RuntimeWarning: overflow encountered in reduce\n",
      "  return ufunc.reduce(obj, axis, dtype, out, **passkwargs)\n"
     ]
    },
    {
     "name": "stderr",
     "output_type": "stream",
     "text": [
      " 10%|███████▉                                                                       | 114/1132 [00:15<03:37,  4.68it/s]"
     ]
    },
    {
     "name": "stdout",
     "output_type": "stream",
     "text": [
      "C:\\Users\\USER\\anaconda3\\envs\\toxpred\\lib\\site-packages\\numpy\\core\\fromnumeric.py:86: RuntimeWarning: overflow encountered in reduce\n",
      "  return ufunc.reduce(obj, axis, dtype, out, **passkwargs)\n",
      "C:\\Users\\USER\\anaconda3\\envs\\toxpred\\lib\\site-packages\\numpy\\core\\fromnumeric.py:86: RuntimeWarning: overflow encountered in reduce\n",
      "  return ufunc.reduce(obj, axis, dtype, out, **passkwargs)\n",
      "C:\\Users\\USER\\anaconda3\\envs\\toxpred\\lib\\site-packages\\numpy\\core\\fromnumeric.py:86: RuntimeWarning: overflow encountered in reduce\n",
      "  return ufunc.reduce(obj, axis, dtype, out, **passkwargs)\n"
     ]
    },
    {
     "name": "stderr",
     "output_type": "stream",
     "text": [
      " 14%|███████████▎                                                                   | 162/1132 [00:31<03:04,  5.25it/s]"
     ]
    },
    {
     "name": "stdout",
     "output_type": "stream",
     "text": [
      "C:\\Users\\USER\\anaconda3\\envs\\toxpred\\lib\\site-packages\\numpy\\core\\fromnumeric.py:86: RuntimeWarning: overflow encountered in reduce\n",
      "  return ufunc.reduce(obj, axis, dtype, out, **passkwargs)\n"
     ]
    },
    {
     "name": "stderr",
     "output_type": "stream",
     "text": [
      " 15%|████████████                                                                   | 172/1132 [00:34<03:31,  4.54it/s]"
     ]
    },
    {
     "name": "stdout",
     "output_type": "stream",
     "text": [
      "C:\\Users\\USER\\anaconda3\\envs\\toxpred\\lib\\site-packages\\numpy\\core\\fromnumeric.py:86: RuntimeWarning: overflow encountered in reduce\n",
      "  return ufunc.reduce(obj, axis, dtype, out, **passkwargs)\n"
     ]
    },
    {
     "name": "stderr",
     "output_type": "stream",
     "text": [
      " 27%|████████████████████▉                                                          | 300/1132 [00:44<01:24,  9.90it/s]"
     ]
    },
    {
     "name": "stdout",
     "output_type": "stream",
     "text": [
      "C:\\Users\\USER\\anaconda3\\envs\\toxpred\\lib\\site-packages\\numpy\\core\\fromnumeric.py:86: RuntimeWarning: overflow encountered in reduce\n",
      "  return ufunc.reduce(obj, axis, dtype, out, **passkwargs)\n"
     ]
    },
    {
     "name": "stderr",
     "output_type": "stream",
     "text": [
      " 35%|███████████████████████████▋                                                   | 397/1132 [00:53<01:17,  9.45it/s]"
     ]
    },
    {
     "name": "stdout",
     "output_type": "stream",
     "text": [
      "C:\\Users\\USER\\anaconda3\\envs\\toxpred\\lib\\site-packages\\numpy\\core\\fromnumeric.py:86: RuntimeWarning: overflow encountered in reduce\n",
      "  return ufunc.reduce(obj, axis, dtype, out, **passkwargs)\n",
      "C:\\Users\\USER\\anaconda3\\envs\\toxpred\\lib\\site-packages\\numpy\\core\\fromnumeric.py:86: RuntimeWarning: overflow encountered in reduce\n",
      "  return ufunc.reduce(obj, axis, dtype, out, **passkwargs)\n"
     ]
    },
    {
     "name": "stderr",
     "output_type": "stream",
     "text": [
      "100%|██████████████████████████████████████████████████████████████████████████████| 1132/1132 [02:25<00:00,  7.80it/s]\n",
      "  2%|█▉                                                                              | 27/1132 [00:05<03:31,  5.22it/s]"
     ]
    },
    {
     "name": "stdout",
     "output_type": "stream",
     "text": [
      "C:\\Users\\USER\\anaconda3\\envs\\toxpred\\lib\\site-packages\\numpy\\core\\fromnumeric.py:86: RuntimeWarning: overflow encountered in reduce\n",
      "  return ufunc.reduce(obj, axis, dtype, out, **passkwargs)\n",
      "C:\\Users\\USER\\anaconda3\\envs\\toxpred\\lib\\site-packages\\numpy\\core\\fromnumeric.py:86: RuntimeWarning: overflow encountered in reduce\n",
      "  return ufunc.reduce(obj, axis, dtype, out, **passkwargs)\n"
     ]
    },
    {
     "name": "stderr",
     "output_type": "stream",
     "text": [
      "  7%|█████▎                                                                          | 75/1132 [00:10<03:33,  4.95it/s]"
     ]
    },
    {
     "name": "stdout",
     "output_type": "stream",
     "text": [
      "C:\\Users\\USER\\anaconda3\\envs\\toxpred\\lib\\site-packages\\numpy\\core\\fromnumeric.py:86: RuntimeWarning: overflow encountered in reduce\n",
      "  return ufunc.reduce(obj, axis, dtype, out, **passkwargs)\n",
      "C:\\Users\\USER\\anaconda3\\envs\\toxpred\\lib\\site-packages\\numpy\\core\\fromnumeric.py:86: RuntimeWarning: overflow encountered in reduce\n",
      "  return ufunc.reduce(obj, axis, dtype, out, **passkwargs)\n"
     ]
    },
    {
     "name": "stderr",
     "output_type": "stream",
     "text": [
      " 10%|███████▉                                                                       | 114/1132 [00:14<03:22,  5.03it/s]"
     ]
    },
    {
     "name": "stdout",
     "output_type": "stream",
     "text": [
      "C:\\Users\\USER\\anaconda3\\envs\\toxpred\\lib\\site-packages\\numpy\\core\\fromnumeric.py:86: RuntimeWarning: overflow encountered in reduce\n",
      "  return ufunc.reduce(obj, axis, dtype, out, **passkwargs)\n",
      "C:\\Users\\USER\\anaconda3\\envs\\toxpred\\lib\\site-packages\\numpy\\core\\fromnumeric.py:86: RuntimeWarning: overflow encountered in reduce\n",
      "  return ufunc.reduce(obj, axis, dtype, out, **passkwargs)\n",
      "C:\\Users\\USER\\anaconda3\\envs\\toxpred\\lib\\site-packages\\numpy\\core\\fromnumeric.py:86: RuntimeWarning: overflow encountered in reduce\n",
      "  return ufunc.reduce(obj, axis, dtype, out, **passkwargs)\n"
     ]
    },
    {
     "name": "stderr",
     "output_type": "stream",
     "text": [
      " 14%|███████████▎                                                                   | 162/1132 [00:30<03:05,  5.22it/s]"
     ]
    },
    {
     "name": "stdout",
     "output_type": "stream",
     "text": [
      "C:\\Users\\USER\\anaconda3\\envs\\toxpred\\lib\\site-packages\\numpy\\core\\fromnumeric.py:86: RuntimeWarning: overflow encountered in reduce\n",
      "  return ufunc.reduce(obj, axis, dtype, out, **passkwargs)\n"
     ]
    },
    {
     "name": "stderr",
     "output_type": "stream",
     "text": [
      " 18%|██████████████▍                                                                | 207/1132 [00:40<03:12,  4.80it/s]"
     ]
    },
    {
     "name": "stdout",
     "output_type": "stream",
     "text": [
      "C:\\Users\\USER\\anaconda3\\envs\\toxpred\\lib\\site-packages\\numpy\\core\\fromnumeric.py:86: RuntimeWarning: overflow encountered in reduce\n",
      "  return ufunc.reduce(obj, axis, dtype, out, **passkwargs)\n"
     ]
    },
    {
     "name": "stderr",
     "output_type": "stream",
     "text": [
      " 23%|██████████████████▍                                                            | 265/1132 [00:48<03:26,  4.20it/s]"
     ]
    },
    {
     "name": "stdout",
     "output_type": "stream",
     "text": [
      "C:\\Users\\USER\\anaconda3\\envs\\toxpred\\lib\\site-packages\\numpy\\core\\fromnumeric.py:86: RuntimeWarning: overflow encountered in reduce\n",
      "  return ufunc.reduce(obj, axis, dtype, out, **passkwargs)\n",
      "C:\\Users\\USER\\anaconda3\\envs\\toxpred\\lib\\site-packages\\numpy\\core\\fromnumeric.py:86: RuntimeWarning: overflow encountered in reduce\n",
      "  return ufunc.reduce(obj, axis, dtype, out, **passkwargs)\n"
     ]
    },
    {
     "name": "stderr",
     "output_type": "stream",
     "text": [
      " 49%|██████████████████████████████████████▊                                        | 556/1132 [01:25<01:08,  8.39it/s]"
     ]
    },
    {
     "name": "stdout",
     "output_type": "stream",
     "text": [
      "C:\\Users\\USER\\anaconda3\\envs\\toxpred\\lib\\site-packages\\numpy\\core\\fromnumeric.py:86: RuntimeWarning: overflow encountered in reduce\n",
      "  return ufunc.reduce(obj, axis, dtype, out, **passkwargs)\n"
     ]
    },
    {
     "name": "stderr",
     "output_type": "stream",
     "text": [
      "100%|██████████████████████████████████████████████████████████████████████████████| 1132/1132 [02:27<00:00,  7.69it/s]\n",
      "  2%|█▉                                                                              | 27/1132 [00:05<03:23,  5.42it/s]"
     ]
    },
    {
     "name": "stdout",
     "output_type": "stream",
     "text": [
      "C:\\Users\\USER\\anaconda3\\envs\\toxpred\\lib\\site-packages\\numpy\\core\\fromnumeric.py:86: RuntimeWarning: overflow encountered in reduce\n",
      "  return ufunc.reduce(obj, axis, dtype, out, **passkwargs)\n",
      "C:\\Users\\USER\\anaconda3\\envs\\toxpred\\lib\\site-packages\\numpy\\core\\fromnumeric.py:86: RuntimeWarning: overflow encountered in reduce\n",
      "  return ufunc.reduce(obj, axis, dtype, out, **passkwargs)\n"
     ]
    },
    {
     "name": "stderr",
     "output_type": "stream",
     "text": [
      "  7%|█████▎                                                                          | 75/1132 [00:11<03:57,  4.46it/s]"
     ]
    },
    {
     "name": "stdout",
     "output_type": "stream",
     "text": [
      "C:\\Users\\USER\\anaconda3\\envs\\toxpred\\lib\\site-packages\\numpy\\core\\fromnumeric.py:86: RuntimeWarning: overflow encountered in reduce\n",
      "  return ufunc.reduce(obj, axis, dtype, out, **passkwargs)\n",
      "C:\\Users\\USER\\anaconda3\\envs\\toxpred\\lib\\site-packages\\numpy\\core\\fromnumeric.py:86: RuntimeWarning: overflow encountered in reduce\n",
      "  return ufunc.reduce(obj, axis, dtype, out, **passkwargs)\n"
     ]
    },
    {
     "name": "stderr",
     "output_type": "stream",
     "text": [
      " 10%|███████▉                                                                       | 114/1132 [00:17<04:01,  4.22it/s]"
     ]
    },
    {
     "name": "stdout",
     "output_type": "stream",
     "text": [
      "C:\\Users\\USER\\anaconda3\\envs\\toxpred\\lib\\site-packages\\numpy\\core\\fromnumeric.py:86: RuntimeWarning: overflow encountered in reduce\n",
      "  return ufunc.reduce(obj, axis, dtype, out, **passkwargs)\n",
      "C:\\Users\\USER\\anaconda3\\envs\\toxpred\\lib\\site-packages\\numpy\\core\\fromnumeric.py:86: RuntimeWarning: overflow encountered in reduce\n",
      "  return ufunc.reduce(obj, axis, dtype, out, **passkwargs)\n",
      "C:\\Users\\USER\\anaconda3\\envs\\toxpred\\lib\\site-packages\\numpy\\core\\fromnumeric.py:86: RuntimeWarning: overflow encountered in reduce\n",
      "  return ufunc.reduce(obj, axis, dtype, out, **passkwargs)\n"
     ]
    },
    {
     "name": "stderr",
     "output_type": "stream",
     "text": [
      " 19%|███████████████▎                                                               | 219/1132 [00:43<03:17,  4.62it/s]"
     ]
    },
    {
     "name": "stdout",
     "output_type": "stream",
     "text": [
      "C:\\Users\\USER\\anaconda3\\envs\\toxpred\\lib\\site-packages\\numpy\\core\\fromnumeric.py:86: RuntimeWarning: overflow encountered in reduce\n",
      "  return ufunc.reduce(obj, axis, dtype, out, **passkwargs)\n"
     ]
    },
    {
     "name": "stderr",
     "output_type": "stream",
     "text": [
      " 23%|█████████████████▊                                                             | 255/1132 [00:48<02:46,  5.28it/s]"
     ]
    },
    {
     "name": "stdout",
     "output_type": "stream",
     "text": [
      "C:\\Users\\USER\\anaconda3\\envs\\toxpred\\lib\\site-packages\\numpy\\core\\fromnumeric.py:86: RuntimeWarning: overflow encountered in reduce\n",
      "  return ufunc.reduce(obj, axis, dtype, out, **passkwargs)\n"
     ]
    },
    {
     "name": "stderr",
     "output_type": "stream",
     "text": [
      " 26%|████████████████████▎                                                          | 291/1132 [00:53<04:51,  2.88it/s]"
     ]
    },
    {
     "name": "stdout",
     "output_type": "stream",
     "text": [
      "C:\\Users\\USER\\anaconda3\\envs\\toxpred\\lib\\site-packages\\numpy\\core\\fromnumeric.py:86: RuntimeWarning: overflow encountered in reduce\n",
      "  return ufunc.reduce(obj, axis, dtype, out, **passkwargs)\n"
     ]
    },
    {
     "name": "stderr",
     "output_type": "stream",
     "text": [
      " 54%|██████████████████████████████████████████▋                                    | 611/1132 [01:21<00:49, 10.56it/s]"
     ]
    },
    {
     "name": "stdout",
     "output_type": "stream",
     "text": [
      "C:\\Users\\USER\\anaconda3\\envs\\toxpred\\lib\\site-packages\\numpy\\core\\fromnumeric.py:86: RuntimeWarning: overflow encountered in reduce\n",
      "  return ufunc.reduce(obj, axis, dtype, out, **passkwargs)\n"
     ]
    },
    {
     "name": "stderr",
     "output_type": "stream",
     "text": [
      " 59%|██████████████████████████████████████████████▎                                | 664/1132 [01:27<00:51,  9.05it/s]"
     ]
    },
    {
     "name": "stdout",
     "output_type": "stream",
     "text": [
      "C:\\Users\\USER\\anaconda3\\envs\\toxpred\\lib\\site-packages\\numpy\\core\\fromnumeric.py:86: RuntimeWarning: overflow encountered in reduce\n",
      "  return ufunc.reduce(obj, axis, dtype, out, **passkwargs)\n"
     ]
    },
    {
     "name": "stderr",
     "output_type": "stream",
     "text": [
      "100%|██████████████████████████████████████████████████████████████████████████████| 1132/1132 [02:22<00:00,  7.92it/s]\n",
      "  5%|███▌                                                                            | 51/1132 [00:05<01:09, 15.61it/s]"
     ]
    },
    {
     "name": "stdout",
     "output_type": "stream",
     "text": [
      "C:\\Users\\USER\\anaconda3\\envs\\toxpred\\lib\\site-packages\\numpy\\core\\fromnumeric.py:86: RuntimeWarning: overflow encountered in reduce\n",
      "  return ufunc.reduce(obj, axis, dtype, out, **passkwargs)\n",
      "C:\\Users\\USER\\anaconda3\\envs\\toxpred\\lib\\site-packages\\numpy\\core\\fromnumeric.py:86: RuntimeWarning: overflow encountered in reduce\n",
      "  return ufunc.reduce(obj, axis, dtype, out, **passkwargs)\n"
     ]
    },
    {
     "name": "stderr",
     "output_type": "stream",
     "text": [
      "  7%|█████▎                                                                          | 75/1132 [00:10<03:30,  5.02it/s]"
     ]
    },
    {
     "name": "stdout",
     "output_type": "stream",
     "text": [
      "C:\\Users\\USER\\anaconda3\\envs\\toxpred\\lib\\site-packages\\numpy\\core\\fromnumeric.py:86: RuntimeWarning: overflow encountered in reduce\n",
      "  return ufunc.reduce(obj, axis, dtype, out, **passkwargs)\n",
      "C:\\Users\\USER\\anaconda3\\envs\\toxpred\\lib\\site-packages\\numpy\\core\\fromnumeric.py:86: RuntimeWarning: overflow encountered in reduce\n",
      "  return ufunc.reduce(obj, axis, dtype, out, **passkwargs)\n"
     ]
    },
    {
     "name": "stderr",
     "output_type": "stream",
     "text": [
      " 10%|███████▉                                                                       | 114/1132 [00:14<03:27,  4.91it/s]"
     ]
    },
    {
     "name": "stdout",
     "output_type": "stream",
     "text": [
      "C:\\Users\\USER\\anaconda3\\envs\\toxpred\\lib\\site-packages\\numpy\\core\\fromnumeric.py:86: RuntimeWarning: overflow encountered in reduce\n",
      "  return ufunc.reduce(obj, axis, dtype, out, **passkwargs)\n",
      "C:\\Users\\USER\\anaconda3\\envs\\toxpred\\lib\\site-packages\\numpy\\core\\fromnumeric.py:86: RuntimeWarning: overflow encountered in reduce\n",
      "  return ufunc.reduce(obj, axis, dtype, out, **passkwargs)\n",
      "C:\\Users\\USER\\anaconda3\\envs\\toxpred\\lib\\site-packages\\numpy\\core\\fromnumeric.py:86: RuntimeWarning: overflow encountered in reduce\n",
      "  return ufunc.reduce(obj, axis, dtype, out, **passkwargs)\n"
     ]
    },
    {
     "name": "stderr",
     "output_type": "stream",
     "text": [
      " 11%|████████▊                                                                      | 127/1132 [00:30<08:02,  2.08it/s]"
     ]
    },
    {
     "name": "stdout",
     "output_type": "stream",
     "text": [
      "C:\\Users\\USER\\anaconda3\\envs\\toxpred\\lib\\site-packages\\numpy\\core\\fromnumeric.py:86: RuntimeWarning: overflow encountered in reduce\n",
      "  return ufunc.reduce(obj, axis, dtype, out, **passkwargs)\n"
     ]
    },
    {
     "name": "stderr",
     "output_type": "stream",
     "text": [
      " 26%|████████████████████▏                                                          | 289/1132 [00:47<03:57,  3.55it/s]"
     ]
    },
    {
     "name": "stdout",
     "output_type": "stream",
     "text": [
      "C:\\Users\\USER\\anaconda3\\envs\\toxpred\\lib\\site-packages\\numpy\\core\\fromnumeric.py:86: RuntimeWarning: overflow encountered in reduce\n",
      "  return ufunc.reduce(obj, axis, dtype, out, **passkwargs)\n",
      "C:\\Users\\USER\\anaconda3\\envs\\toxpred\\lib\\site-packages\\numpy\\core\\fromnumeric.py:86: RuntimeWarning: overflow encountered in reduce\n",
      "  return ufunc.reduce(obj, axis, dtype, out, **passkwargs)\n"
     ]
    },
    {
     "name": "stderr",
     "output_type": "stream",
     "text": [
      " 32%|█████████████████████████▍                                                     | 364/1132 [00:52<01:20,  9.59it/s]"
     ]
    },
    {
     "name": "stdout",
     "output_type": "stream",
     "text": [
      "C:\\Users\\USER\\anaconda3\\envs\\toxpred\\lib\\site-packages\\numpy\\core\\fromnumeric.py:86: RuntimeWarning: overflow encountered in reduce\n",
      "  return ufunc.reduce(obj, axis, dtype, out, **passkwargs)\n"
     ]
    },
    {
     "name": "stderr",
     "output_type": "stream",
     "text": [
      " 43%|█████████████████████████████████▋                                             | 482/1132 [01:02<00:41, 15.76it/s]"
     ]
    },
    {
     "name": "stdout",
     "output_type": "stream",
     "text": [
      "C:\\Users\\USER\\anaconda3\\envs\\toxpred\\lib\\site-packages\\numpy\\core\\fromnumeric.py:86: RuntimeWarning: overflow encountered in reduce\n",
      "  return ufunc.reduce(obj, axis, dtype, out, **passkwargs)\n"
     ]
    },
    {
     "name": "stderr",
     "output_type": "stream",
     "text": [
      "100%|██████████████████████████████████████████████████████████████████████████████| 1132/1132 [02:30<00:00,  7.51it/s]\n",
      "  5%|███▌                                                                            | 51/1132 [00:05<01:08, 15.88it/s]"
     ]
    },
    {
     "name": "stdout",
     "output_type": "stream",
     "text": [
      "C:\\Users\\USER\\anaconda3\\envs\\toxpred\\lib\\site-packages\\numpy\\core\\fromnumeric.py:86: RuntimeWarning: overflow encountered in reduce\n",
      "  return ufunc.reduce(obj, axis, dtype, out, **passkwargs)\n",
      "C:\\Users\\USER\\anaconda3\\envs\\toxpred\\lib\\site-packages\\numpy\\core\\fromnumeric.py:86: RuntimeWarning: overflow encountered in reduce\n",
      "  return ufunc.reduce(obj, axis, dtype, out, **passkwargs)\n"
     ]
    },
    {
     "name": "stderr",
     "output_type": "stream",
     "text": [
      "  7%|█████▎                                                                          | 75/1132 [00:10<03:23,  5.21it/s]"
     ]
    },
    {
     "name": "stdout",
     "output_type": "stream",
     "text": [
      "C:\\Users\\USER\\anaconda3\\envs\\toxpred\\lib\\site-packages\\numpy\\core\\fromnumeric.py:86: RuntimeWarning: overflow encountered in reduce\n",
      "  return ufunc.reduce(obj, axis, dtype, out, **passkwargs)\n",
      "C:\\Users\\USER\\anaconda3\\envs\\toxpred\\lib\\site-packages\\numpy\\core\\fromnumeric.py:86: RuntimeWarning: overflow encountered in reduce\n",
      "  return ufunc.reduce(obj, axis, dtype, out, **passkwargs)\n"
     ]
    },
    {
     "name": "stderr",
     "output_type": "stream",
     "text": [
      " 10%|███████▉                                                                       | 114/1132 [00:14<03:03,  5.55it/s]"
     ]
    },
    {
     "name": "stdout",
     "output_type": "stream",
     "text": [
      "C:\\Users\\USER\\anaconda3\\envs\\toxpred\\lib\\site-packages\\numpy\\core\\fromnumeric.py:86: RuntimeWarning: overflow encountered in reduce\n",
      "  return ufunc.reduce(obj, axis, dtype, out, **passkwargs)\n",
      "C:\\Users\\USER\\anaconda3\\envs\\toxpred\\lib\\site-packages\\numpy\\core\\fromnumeric.py:86: RuntimeWarning: overflow encountered in reduce\n",
      "  return ufunc.reduce(obj, axis, dtype, out, **passkwargs)\n"
     ]
    },
    {
     "name": "stderr",
     "output_type": "stream",
     "text": [
      " 14%|███████████▎                                                                   | 162/1132 [00:30<03:27,  4.67it/s]"
     ]
    },
    {
     "name": "stdout",
     "output_type": "stream",
     "text": [
      "C:\\Users\\USER\\anaconda3\\envs\\toxpred\\lib\\site-packages\\numpy\\core\\fromnumeric.py:86: RuntimeWarning: overflow encountered in reduce\n",
      "  return ufunc.reduce(obj, axis, dtype, out, **passkwargs)\n",
      "C:\\Users\\USER\\anaconda3\\envs\\toxpred\\lib\\site-packages\\numpy\\core\\fromnumeric.py:86: RuntimeWarning: overflow encountered in reduce\n",
      "  return ufunc.reduce(obj, axis, dtype, out, **passkwargs)\n"
     ]
    },
    {
     "name": "stderr",
     "output_type": "stream",
     "text": [
      " 19%|███████████████▎                                                               | 219/1132 [00:37<02:52,  5.30it/s]"
     ]
    },
    {
     "name": "stdout",
     "output_type": "stream",
     "text": [
      "C:\\Users\\USER\\anaconda3\\envs\\toxpred\\lib\\site-packages\\numpy\\core\\fromnumeric.py:86: RuntimeWarning: overflow encountered in reduce\n",
      "  return ufunc.reduce(obj, axis, dtype, out, **passkwargs)\n"
     ]
    },
    {
     "name": "stderr",
     "output_type": "stream",
     "text": [
      " 23%|██████████████████▍                                                            | 265/1132 [00:46<03:39,  3.95it/s]"
     ]
    },
    {
     "name": "stdout",
     "output_type": "stream",
     "text": [
      "C:\\Users\\USER\\anaconda3\\envs\\toxpred\\lib\\site-packages\\numpy\\core\\fromnumeric.py:86: RuntimeWarning: overflow encountered in reduce\n",
      "  return ufunc.reduce(obj, axis, dtype, out, **passkwargs)\n"
     ]
    },
    {
     "name": "stderr",
     "output_type": "stream",
     "text": [
      " 27%|█████████████████████▍                                                         | 307/1132 [00:49<01:59,  6.90it/s]"
     ]
    },
    {
     "name": "stdout",
     "output_type": "stream",
     "text": [
      "C:\\Users\\USER\\anaconda3\\envs\\toxpred\\lib\\site-packages\\numpy\\core\\fromnumeric.py:86: RuntimeWarning: overflow encountered in reduce\n",
      "  return ufunc.reduce(obj, axis, dtype, out, **passkwargs)\n"
     ]
    },
    {
     "name": "stderr",
     "output_type": "stream",
     "text": [
      " 43%|█████████████████████████████████▋                                             | 482/1132 [01:02<01:06,  9.84it/s]"
     ]
    },
    {
     "name": "stdout",
     "output_type": "stream",
     "text": [
      "C:\\Users\\USER\\anaconda3\\envs\\toxpred\\lib\\site-packages\\numpy\\core\\fromnumeric.py:86: RuntimeWarning: overflow encountered in reduce\n",
      "  return ufunc.reduce(obj, axis, dtype, out, **passkwargs)\n"
     ]
    },
    {
     "name": "stderr",
     "output_type": "stream",
     "text": [
      "100%|██████████████████████████████████████████████████████████████████████████████| 1132/1132 [02:28<00:00,  7.61it/s]\n",
      "  5%|███▌                                                                            | 51/1132 [00:05<01:13, 14.75it/s]"
     ]
    },
    {
     "name": "stdout",
     "output_type": "stream",
     "text": [
      "C:\\Users\\USER\\anaconda3\\envs\\toxpred\\lib\\site-packages\\numpy\\core\\fromnumeric.py:86: RuntimeWarning: overflow encountered in reduce\n",
      "  return ufunc.reduce(obj, axis, dtype, out, **passkwargs)\n",
      "C:\\Users\\USER\\anaconda3\\envs\\toxpred\\lib\\site-packages\\numpy\\core\\fromnumeric.py:86: RuntimeWarning: overflow encountered in reduce\n",
      "  return ufunc.reduce(obj, axis, dtype, out, **passkwargs)\n"
     ]
    },
    {
     "name": "stderr",
     "output_type": "stream",
     "text": [
      "  7%|█████▎                                                                          | 75/1132 [00:10<03:43,  4.73it/s]"
     ]
    },
    {
     "name": "stdout",
     "output_type": "stream",
     "text": [
      "C:\\Users\\USER\\anaconda3\\envs\\toxpred\\lib\\site-packages\\numpy\\core\\fromnumeric.py:86: RuntimeWarning: overflow encountered in reduce\n",
      "  return ufunc.reduce(obj, axis, dtype, out, **passkwargs)\n",
      "C:\\Users\\USER\\anaconda3\\envs\\toxpred\\lib\\site-packages\\numpy\\core\\fromnumeric.py:86: RuntimeWarning: overflow encountered in reduce\n",
      "  return ufunc.reduce(obj, axis, dtype, out, **passkwargs)\n"
     ]
    },
    {
     "name": "stderr",
     "output_type": "stream",
     "text": [
      " 10%|███████▉                                                                       | 114/1132 [00:15<03:24,  4.97it/s]"
     ]
    },
    {
     "name": "stdout",
     "output_type": "stream",
     "text": [
      "C:\\Users\\USER\\anaconda3\\envs\\toxpred\\lib\\site-packages\\numpy\\core\\fromnumeric.py:86: RuntimeWarning: overflow encountered in reduce\n",
      "  return ufunc.reduce(obj, axis, dtype, out, **passkwargs)\n",
      "C:\\Users\\USER\\anaconda3\\envs\\toxpred\\lib\\site-packages\\numpy\\core\\fromnumeric.py:86: RuntimeWarning: overflow encountered in reduce\n",
      "  return ufunc.reduce(obj, axis, dtype, out, **passkwargs)\n",
      "C:\\Users\\USER\\anaconda3\\envs\\toxpred\\lib\\site-packages\\numpy\\core\\fromnumeric.py:86: RuntimeWarning: overflow encountered in reduce\n",
      "  return ufunc.reduce(obj, axis, dtype, out, **passkwargs)\n"
     ]
    },
    {
     "name": "stderr",
     "output_type": "stream",
     "text": [
      " 12%|█████████▎                                                                     | 133/1132 [00:31<07:02,  2.37it/s]"
     ]
    },
    {
     "name": "stdout",
     "output_type": "stream",
     "text": [
      "C:\\Users\\USER\\anaconda3\\envs\\toxpred\\lib\\site-packages\\numpy\\core\\fromnumeric.py:86: RuntimeWarning: overflow encountered in reduce\n",
      "  return ufunc.reduce(obj, axis, dtype, out, **passkwargs)\n"
     ]
    },
    {
     "name": "stderr",
     "output_type": "stream",
     "text": [
      " 18%|██████████████▌                                                                | 209/1132 [00:39<02:59,  5.15it/s]"
     ]
    },
    {
     "name": "stdout",
     "output_type": "stream",
     "text": [
      "C:\\Users\\USER\\anaconda3\\envs\\toxpred\\lib\\site-packages\\numpy\\core\\fromnumeric.py:86: RuntimeWarning: overflow encountered in reduce\n",
      "  return ufunc.reduce(obj, axis, dtype, out, **passkwargs)\n"
     ]
    },
    {
     "name": "stderr",
     "output_type": "stream",
     "text": [
      " 27%|█████████████████████▍                                                         | 307/1132 [00:51<02:08,  6.41it/s]"
     ]
    },
    {
     "name": "stdout",
     "output_type": "stream",
     "text": [
      "C:\\Users\\USER\\anaconda3\\envs\\toxpred\\lib\\site-packages\\numpy\\core\\fromnumeric.py:86: RuntimeWarning: overflow encountered in reduce\n",
      "  return ufunc.reduce(obj, axis, dtype, out, **passkwargs)\n"
     ]
    },
    {
     "name": "stderr",
     "output_type": "stream",
     "text": [
      " 35%|███████████████████████████▉                                                   | 400/1132 [00:57<01:20,  9.04it/s]"
     ]
    },
    {
     "name": "stdout",
     "output_type": "stream",
     "text": [
      "C:\\Users\\USER\\anaconda3\\envs\\toxpred\\lib\\site-packages\\numpy\\core\\fromnumeric.py:86: RuntimeWarning: overflow encountered in reduce\n",
      "  return ufunc.reduce(obj, axis, dtype, out, **passkwargs)\n"
     ]
    },
    {
     "name": "stderr",
     "output_type": "stream",
     "text": [
      " 79%|██████████████████████████████████████████████████████████████▋                | 899/1132 [02:08<00:41,  5.58it/s]"
     ]
    },
    {
     "name": "stdout",
     "output_type": "stream",
     "text": [
      "C:\\Users\\USER\\anaconda3\\envs\\toxpred\\lib\\site-packages\\numpy\\core\\fromnumeric.py:86: RuntimeWarning: overflow encountered in reduce\n",
      "  return ufunc.reduce(obj, axis, dtype, out, **passkwargs)\n"
     ]
    },
    {
     "name": "stderr",
     "output_type": "stream",
     "text": [
      "100%|██████████████████████████████████████████████████████████████████████████████| 1132/1132 [02:28<00:00,  7.61it/s]\n",
      "  5%|███▌                                                                            | 51/1133 [00:05<01:10, 15.37it/s]"
     ]
    },
    {
     "name": "stdout",
     "output_type": "stream",
     "text": [
      "C:\\Users\\USER\\anaconda3\\envs\\toxpred\\lib\\site-packages\\numpy\\core\\fromnumeric.py:86: RuntimeWarning: overflow encountered in reduce\n",
      "  return ufunc.reduce(obj, axis, dtype, out, **passkwargs)\n",
      "C:\\Users\\USER\\anaconda3\\envs\\toxpred\\lib\\site-packages\\numpy\\core\\fromnumeric.py:86: RuntimeWarning: overflow encountered in reduce\n",
      "  return ufunc.reduce(obj, axis, dtype, out, **passkwargs)\n"
     ]
    },
    {
     "name": "stderr",
     "output_type": "stream",
     "text": [
      "  5%|████▎                                                                           | 61/1133 [00:10<03:25,  5.22it/s]"
     ]
    },
    {
     "name": "stdout",
     "output_type": "stream",
     "text": [
      "C:\\Users\\USER\\anaconda3\\envs\\toxpred\\lib\\site-packages\\numpy\\core\\fromnumeric.py:86: RuntimeWarning: overflow encountered in reduce\n",
      "  return ufunc.reduce(obj, axis, dtype, out, **passkwargs)\n"
     ]
    },
    {
     "name": "stderr",
     "output_type": "stream",
     "text": [
      " 10%|███████▉                                                                       | 114/1133 [00:14<02:56,  5.77it/s]"
     ]
    },
    {
     "name": "stdout",
     "output_type": "stream",
     "text": [
      "C:\\Users\\USER\\anaconda3\\envs\\toxpred\\lib\\site-packages\\numpy\\core\\fromnumeric.py:86: RuntimeWarning: overflow encountered in reduce\n",
      "  return ufunc.reduce(obj, axis, dtype, out, **passkwargs)\n",
      "C:\\Users\\USER\\anaconda3\\envs\\toxpred\\lib\\site-packages\\numpy\\core\\fromnumeric.py:86: RuntimeWarning: overflow encountered in reduce\n",
      "  return ufunc.reduce(obj, axis, dtype, out, **passkwargs)\n",
      "C:\\Users\\USER\\anaconda3\\envs\\toxpred\\lib\\site-packages\\numpy\\core\\fromnumeric.py:86: RuntimeWarning: overflow encountered in reduce\n",
      "  return ufunc.reduce(obj, axis, dtype, out, **passkwargs)\n"
     ]
    },
    {
     "name": "stderr",
     "output_type": "stream",
     "text": [
      " 14%|███████████▎                                                                   | 162/1133 [00:29<03:21,  4.82it/s]"
     ]
    },
    {
     "name": "stdout",
     "output_type": "stream",
     "text": [
      "C:\\Users\\USER\\anaconda3\\envs\\toxpred\\lib\\site-packages\\numpy\\core\\fromnumeric.py:86: RuntimeWarning: overflow encountered in reduce\n",
      "  return ufunc.reduce(obj, axis, dtype, out, **passkwargs)\n",
      "C:\\Users\\USER\\anaconda3\\envs\\toxpred\\lib\\site-packages\\numpy\\core\\fromnumeric.py:86: RuntimeWarning: overflow encountered in reduce\n",
      "  return ufunc.reduce(obj, axis, dtype, out, **passkwargs)\n"
     ]
    },
    {
     "name": "stderr",
     "output_type": "stream",
     "text": [
      " 19%|██████████████▋                                                                | 210/1133 [00:37<02:46,  5.54it/s]"
     ]
    },
    {
     "name": "stdout",
     "output_type": "stream",
     "text": [
      "C:\\Users\\USER\\anaconda3\\envs\\toxpred\\lib\\site-packages\\numpy\\core\\fromnumeric.py:86: RuntimeWarning: overflow encountered in reduce\n",
      "  return ufunc.reduce(obj, axis, dtype, out, **passkwargs)\n"
     ]
    },
    {
     "name": "stderr",
     "output_type": "stream",
     "text": [
      " 23%|█████████████████▉                                                             | 258/1133 [00:45<03:49,  3.81it/s]"
     ]
    },
    {
     "name": "stdout",
     "output_type": "stream",
     "text": [
      "C:\\Users\\USER\\anaconda3\\envs\\toxpred\\lib\\site-packages\\numpy\\core\\fromnumeric.py:86: RuntimeWarning: overflow encountered in reduce\n",
      "  return ufunc.reduce(obj, axis, dtype, out, **passkwargs)\n"
     ]
    },
    {
     "name": "stderr",
     "output_type": "stream",
     "text": [
      " 23%|██████████████████▍                                                            | 265/1133 [00:46<03:24,  4.25it/s]"
     ]
    },
    {
     "name": "stdout",
     "output_type": "stream",
     "text": [
      "C:\\Users\\USER\\anaconda3\\envs\\toxpred\\lib\\site-packages\\numpy\\core\\fromnumeric.py:86: RuntimeWarning: overflow encountered in reduce\n",
      "  return ufunc.reduce(obj, axis, dtype, out, **passkwargs)\n"
     ]
    },
    {
     "name": "stderr",
     "output_type": "stream",
     "text": [
      " 50%|███████████████████████████████████████▎                                       | 563/1133 [01:23<04:03,  2.34it/s]"
     ]
    },
    {
     "name": "stdout",
     "output_type": "stream",
     "text": [
      "C:\\Users\\USER\\anaconda3\\envs\\toxpred\\lib\\site-packages\\numpy\\core\\fromnumeric.py:86: RuntimeWarning: overflow encountered in reduce\n",
      "  return ufunc.reduce(obj, axis, dtype, out, **passkwargs)\n"
     ]
    },
    {
     "name": "stderr",
     "output_type": "stream",
     "text": [
      "100%|██████████████████████████████████████████████████████████████████████████████| 1133/1133 [02:25<00:00,  7.81it/s]\n",
      "  2%|█▉                                                                              | 27/1133 [00:06<04:34,  4.04it/s]"
     ]
    },
    {
     "name": "stdout",
     "output_type": "stream",
     "text": [
      "C:\\Users\\USER\\anaconda3\\envs\\toxpred\\lib\\site-packages\\numpy\\core\\fromnumeric.py:86: RuntimeWarning: overflow encountered in reduce\n",
      "  return ufunc.reduce(obj, axis, dtype, out, **passkwargs)\n",
      "C:\\Users\\USER\\anaconda3\\envs\\toxpred\\lib\\site-packages\\numpy\\core\\fromnumeric.py:86: RuntimeWarning: overflow encountered in reduce\n",
      "  return ufunc.reduce(obj, axis, dtype, out, **passkwargs)\n"
     ]
    },
    {
     "name": "stderr",
     "output_type": "stream",
     "text": [
      "  7%|█████▎                                                                          | 75/1133 [00:13<04:10,  4.22it/s]"
     ]
    },
    {
     "name": "stdout",
     "output_type": "stream",
     "text": [
      "C:\\Users\\USER\\anaconda3\\envs\\toxpred\\lib\\site-packages\\numpy\\core\\fromnumeric.py:86: RuntimeWarning: overflow encountered in reduce\n",
      "  return ufunc.reduce(obj, axis, dtype, out, **passkwargs)\n",
      "C:\\Users\\USER\\anaconda3\\envs\\toxpred\\lib\\site-packages\\numpy\\core\\fromnumeric.py:86: RuntimeWarning: overflow encountered in reduce\n",
      "  return ufunc.reduce(obj, axis, dtype, out, **passkwargs)\n"
     ]
    },
    {
     "name": "stderr",
     "output_type": "stream",
     "text": [
      " 10%|███████▉                                                                       | 114/1133 [00:16<03:30,  4.84it/s]"
     ]
    },
    {
     "name": "stdout",
     "output_type": "stream",
     "text": [
      "C:\\Users\\USER\\anaconda3\\envs\\toxpred\\lib\\site-packages\\numpy\\core\\fromnumeric.py:86: RuntimeWarning: overflow encountered in reduce\n",
      "  return ufunc.reduce(obj, axis, dtype, out, **passkwargs)\n",
      "C:\\Users\\USER\\anaconda3\\envs\\toxpred\\lib\\site-packages\\numpy\\core\\fromnumeric.py:86: RuntimeWarning: overflow encountered in reduce\n",
      "  return ufunc.reduce(obj, axis, dtype, out, **passkwargs)\n",
      "C:\\Users\\USER\\anaconda3\\envs\\toxpred\\lib\\site-packages\\numpy\\core\\fromnumeric.py:86: RuntimeWarning: overflow encountered in reduce\n",
      "  return ufunc.reduce(obj, axis, dtype, out, **passkwargs)\n"
     ]
    },
    {
     "name": "stderr",
     "output_type": "stream",
     "text": [
      " 11%|████████▊                                                                      | 127/1133 [00:32<05:53,  2.85it/s]"
     ]
    },
    {
     "name": "stdout",
     "output_type": "stream",
     "text": [
      "C:\\Users\\USER\\anaconda3\\envs\\toxpred\\lib\\site-packages\\numpy\\core\\fromnumeric.py:86: RuntimeWarning: overflow encountered in reduce\n",
      "  return ufunc.reduce(obj, axis, dtype, out, **passkwargs)\n"
     ]
    },
    {
     "name": "stderr",
     "output_type": "stream",
     "text": [
      " 17%|█████████████▊                                                                 | 198/1133 [00:36<02:08,  7.26it/s]"
     ]
    },
    {
     "name": "stdout",
     "output_type": "stream",
     "text": [
      "C:\\Users\\USER\\anaconda3\\envs\\toxpred\\lib\\site-packages\\numpy\\core\\fromnumeric.py:86: RuntimeWarning: overflow encountered in reduce\n",
      "  return ufunc.reduce(obj, axis, dtype, out, **passkwargs)\n"
     ]
    },
    {
     "name": "stderr",
     "output_type": "stream",
     "text": [
      " 23%|█████████████████▊                                                             | 256/1133 [00:43<02:07,  6.86it/s]"
     ]
    },
    {
     "name": "stdout",
     "output_type": "stream",
     "text": [
      "C:\\Users\\USER\\anaconda3\\envs\\toxpred\\lib\\site-packages\\numpy\\core\\fromnumeric.py:86: RuntimeWarning: overflow encountered in reduce\n",
      "  return ufunc.reduce(obj, axis, dtype, out, **passkwargs)\n"
     ]
    },
    {
     "name": "stderr",
     "output_type": "stream",
     "text": [
      " 38%|█████████████████████████████▋                                                 | 426/1133 [01:01<01:29,  7.93it/s]"
     ]
    },
    {
     "name": "stdout",
     "output_type": "stream",
     "text": [
      "C:\\Users\\USER\\anaconda3\\envs\\toxpred\\lib\\site-packages\\numpy\\core\\fromnumeric.py:86: RuntimeWarning: overflow encountered in reduce\n",
      "  return ufunc.reduce(obj, axis, dtype, out, **passkwargs)\n"
     ]
    },
    {
     "name": "stderr",
     "output_type": "stream",
     "text": [
      " 59%|██████████████████████████████████████████████▊                                | 672/1133 [01:39<01:03,  7.25it/s]"
     ]
    },
    {
     "name": "stdout",
     "output_type": "stream",
     "text": [
      "C:\\Users\\USER\\anaconda3\\envs\\toxpred\\lib\\site-packages\\numpy\\core\\fromnumeric.py:86: RuntimeWarning: overflow encountered in reduce\n",
      "  return ufunc.reduce(obj, axis, dtype, out, **passkwargs)\n"
     ]
    },
    {
     "name": "stderr",
     "output_type": "stream",
     "text": [
      "100%|██████████████████████████████████████████████████████████████████████████████| 1133/1133 [02:28<00:00,  7.63it/s]\n"
     ]
    }
   ],
   "source": [
    "data_train = convert2vec_group(total_train_data)# fold x numberdata x number features(2 x 1) descriptor and fing           \n",
    "\n",
    "data_train_Desc=  data_train[0]\n",
    "data_train_ECFP2=  data_train[1]\n",
    "data_train_PubChem=  data_train[2]\n",
    "data_train_MACCS=  data_train[3]"
   ]
  },
  {
   "cell_type": "code",
   "execution_count": 12,
   "id": "eb93227c",
   "metadata": {},
   "outputs": [
    {
     "data": {
      "text/plain": [
       "array([[0, 0, 0, ..., 0, 0, 0],\n",
       "       [0, 0, 0, ..., 0, 0, 0],\n",
       "       [0, 0, 0, ..., 0, 0, 0],\n",
       "       ...,\n",
       "       [0, 0, 0, ..., 0, 0, 0],\n",
       "       [0, 0, 0, ..., 0, 0, 0],\n",
       "       [0, 0, 0, ..., 0, 0, 0]])"
      ]
     },
     "execution_count": 12,
     "metadata": {},
     "output_type": "execute_result"
    }
   ],
   "source": [
    "data_train_PubChem[0]"
   ]
  },
  {
   "cell_type": "code",
   "execution_count": 13,
   "id": "54486d60",
   "metadata": {},
   "outputs": [
    {
     "data": {
      "text/plain": [
       "126"
      ]
     },
     "execution_count": 13,
     "metadata": {},
     "output_type": "execute_result"
    }
   ],
   "source": [
    "len(total_validation_data[0])"
   ]
  },
  {
   "cell_type": "code",
   "execution_count": 14,
   "id": "4b16a652",
   "metadata": {},
   "outputs": [
    {
     "name": "stderr",
     "output_type": "stream",
     "text": [
      " 21%|█████████████████▎                                                               | 27/126 [00:05<00:22,  4.39it/s]"
     ]
    },
    {
     "name": "stdout",
     "output_type": "stream",
     "text": [
      "C:\\Users\\USER\\anaconda3\\envs\\toxpred\\lib\\site-packages\\numpy\\core\\fromnumeric.py:86: RuntimeWarning: overflow encountered in reduce\n",
      "  return ufunc.reduce(obj, axis, dtype, out, **passkwargs)\n",
      "C:\\Users\\USER\\anaconda3\\envs\\toxpred\\lib\\site-packages\\numpy\\core\\fromnumeric.py:86: RuntimeWarning: overflow encountered in reduce\n",
      "  return ufunc.reduce(obj, axis, dtype, out, **passkwargs)\n"
     ]
    },
    {
     "name": "stderr",
     "output_type": "stream",
     "text": [
      " 60%|████████████████████████████████████████████████▏                                | 75/126 [00:11<00:11,  4.47it/s]"
     ]
    },
    {
     "name": "stdout",
     "output_type": "stream",
     "text": [
      "C:\\Users\\USER\\anaconda3\\envs\\toxpred\\lib\\site-packages\\numpy\\core\\fromnumeric.py:86: RuntimeWarning: overflow encountered in reduce\n",
      "  return ufunc.reduce(obj, axis, dtype, out, **passkwargs)\n",
      "C:\\Users\\USER\\anaconda3\\envs\\toxpred\\lib\\site-packages\\numpy\\core\\fromnumeric.py:86: RuntimeWarning: overflow encountered in reduce\n",
      "  return ufunc.reduce(obj, axis, dtype, out, **passkwargs)\n"
     ]
    },
    {
     "name": "stderr",
     "output_type": "stream",
     "text": [
      " 90%|████████████████████████████████████████████████████████████████████████▍       | 114/126 [00:15<00:02,  4.97it/s]"
     ]
    },
    {
     "name": "stdout",
     "output_type": "stream",
     "text": [
      "C:\\Users\\USER\\anaconda3\\envs\\toxpred\\lib\\site-packages\\numpy\\core\\fromnumeric.py:86: RuntimeWarning: overflow encountered in reduce\n",
      "  return ufunc.reduce(obj, axis, dtype, out, **passkwargs)\n",
      "C:\\Users\\USER\\anaconda3\\envs\\toxpred\\lib\\site-packages\\numpy\\core\\fromnumeric.py:86: RuntimeWarning: overflow encountered in reduce\n",
      "  return ufunc.reduce(obj, axis, dtype, out, **passkwargs)\n"
     ]
    },
    {
     "name": "stderr",
     "output_type": "stream",
     "text": [
      "100%|████████████████████████████████████████████████████████████████████████████████| 126/126 [00:28<00:00,  4.35it/s]\n",
      "  6%|████▌                                                                             | 7/126 [00:03<00:51,  2.29it/s]"
     ]
    },
    {
     "name": "stdout",
     "output_type": "stream",
     "text": [
      "C:\\Users\\USER\\anaconda3\\envs\\toxpred\\lib\\site-packages\\numpy\\core\\fromnumeric.py:86: RuntimeWarning: overflow encountered in reduce\n",
      "  return ufunc.reduce(obj, axis, dtype, out, **passkwargs)\n"
     ]
    },
    {
     "name": "stderr",
     "output_type": "stream",
     "text": [
      " 57%|██████████████████████████████████████████████▎                                  | 72/126 [00:07<00:03, 15.17it/s]"
     ]
    },
    {
     "name": "stdout",
     "output_type": "stream",
     "text": [
      "C:\\Users\\USER\\anaconda3\\envs\\toxpred\\lib\\site-packages\\numpy\\core\\fromnumeric.py:86: RuntimeWarning: overflow encountered in reduce\n",
      "  return ufunc.reduce(obj, axis, dtype, out, **passkwargs)\n"
     ]
    },
    {
     "name": "stderr",
     "output_type": "stream",
     "text": [
      " 74%|███████████████████████████████████████████████████████████▊                     | 93/126 [00:10<00:04,  7.75it/s]"
     ]
    },
    {
     "name": "stdout",
     "output_type": "stream",
     "text": [
      "C:\\Users\\USER\\anaconda3\\envs\\toxpred\\lib\\site-packages\\numpy\\core\\fromnumeric.py:86: RuntimeWarning: overflow encountered in reduce\n",
      "  return ufunc.reduce(obj, axis, dtype, out, **passkwargs)\n"
     ]
    },
    {
     "name": "stderr",
     "output_type": "stream",
     "text": [
      "100%|████████████████████████████████████████████████████████████████████████████████| 126/126 [00:11<00:00, 10.70it/s]\n",
      "  2%|█▎                                                                                | 2/126 [00:04<04:48,  2.33s/it]"
     ]
    },
    {
     "name": "stdout",
     "output_type": "stream",
     "text": [
      "C:\\Users\\USER\\anaconda3\\envs\\toxpred\\lib\\site-packages\\numpy\\core\\fromnumeric.py:86: RuntimeWarning: overflow encountered in reduce\n",
      "  return ufunc.reduce(obj, axis, dtype, out, **passkwargs)\n"
     ]
    },
    {
     "name": "stderr",
     "output_type": "stream",
     "text": [
      "  5%|███▉                                                                              | 6/126 [00:08<02:36,  1.31s/it]"
     ]
    },
    {
     "name": "stdout",
     "output_type": "stream",
     "text": [
      "C:\\Users\\USER\\anaconda3\\envs\\toxpred\\lib\\site-packages\\numpy\\core\\fromnumeric.py:86: RuntimeWarning: overflow encountered in reduce\n",
      "  return ufunc.reduce(obj, axis, dtype, out, **passkwargs)\n"
     ]
    },
    {
     "name": "stderr",
     "output_type": "stream",
     "text": [
      " 29%|███████████████████████▊                                                         | 37/126 [00:08<00:42,  2.09it/s]"
     ]
    },
    {
     "name": "stdout",
     "output_type": "stream",
     "text": [
      "C:\\Users\\USER\\anaconda3\\envs\\toxpred\\lib\\site-packages\\numpy\\core\\fromnumeric.py:86: RuntimeWarning: overflow encountered in reduce\n",
      "  return ufunc.reduce(obj, axis, dtype, out, **passkwargs)\n",
      "C:\\Users\\USER\\anaconda3\\envs\\toxpred\\lib\\site-packages\\numpy\\core\\fromnumeric.py:86: RuntimeWarning: overflow encountered in reduce\n",
      "  return ufunc.reduce(obj, axis, dtype, out, **passkwargs)\n",
      "C:\\Users\\USER\\anaconda3\\envs\\toxpred\\lib\\site-packages\\numpy\\core\\fromnumeric.py:86: RuntimeWarning: overflow encountered in reduce\n",
      "  return ufunc.reduce(obj, axis, dtype, out, **passkwargs)\n"
     ]
    },
    {
     "name": "stderr",
     "output_type": "stream",
     "text": [
      " 44%|███████████████████████████████████▎                                             | 55/126 [00:11<00:09,  7.18it/s]"
     ]
    },
    {
     "name": "stdout",
     "output_type": "stream",
     "text": [
      "C:\\Users\\USER\\anaconda3\\envs\\toxpred\\lib\\site-packages\\numpy\\core\\fromnumeric.py:86: RuntimeWarning: overflow encountered in reduce\n",
      "  return ufunc.reduce(obj, axis, dtype, out, **passkwargs)\n"
     ]
    },
    {
     "name": "stderr",
     "output_type": "stream",
     "text": [
      "100%|████████████████████████████████████████████████████████████████████████████████| 126/126 [00:14<00:00,  8.75it/s]\n"
     ]
    },
    {
     "name": "stdout",
     "output_type": "stream",
     "text": [
      "C:\\Users\\USER\\anaconda3\\envs\\toxpred\\lib\\site-packages\\numpy\\core\\fromnumeric.py:86: RuntimeWarning: overflow encountered in reduce\n",
      "  return ufunc.reduce(obj, axis, dtype, out, **passkwargs)\n"
     ]
    },
    {
     "name": "stderr",
     "output_type": "stream",
     "text": [
      "  4%|███▎                                                                              | 5/126 [00:02<00:52,  2.31it/s]"
     ]
    },
    {
     "name": "stdout",
     "output_type": "stream",
     "text": [
      "C:\\Users\\USER\\anaconda3\\envs\\toxpred\\lib\\site-packages\\numpy\\core\\fromnumeric.py:86: RuntimeWarning: overflow encountered in reduce\n",
      "  return ufunc.reduce(obj, axis, dtype, out, **passkwargs)\n"
     ]
    },
    {
     "name": "stderr",
     "output_type": "stream",
     "text": [
      " 17%|██████████████▏                                                                  | 22/126 [00:05<00:19,  5.39it/s]"
     ]
    },
    {
     "name": "stdout",
     "output_type": "stream",
     "text": [
      "C:\\Users\\USER\\anaconda3\\envs\\toxpred\\lib\\site-packages\\numpy\\core\\fromnumeric.py:86: RuntimeWarning: overflow encountered in reduce\n",
      "  return ufunc.reduce(obj, axis, dtype, out, **passkwargs)\n"
     ]
    },
    {
     "name": "stderr",
     "output_type": "stream",
     "text": [
      " 30%|████████████████████████▍                                                        | 38/126 [00:07<00:11,  7.72it/s]"
     ]
    },
    {
     "name": "stdout",
     "output_type": "stream",
     "text": [
      "C:\\Users\\USER\\anaconda3\\envs\\toxpred\\lib\\site-packages\\numpy\\core\\fromnumeric.py:86: RuntimeWarning: overflow encountered in reduce\n",
      "  return ufunc.reduce(obj, axis, dtype, out, **passkwargs)\n"
     ]
    },
    {
     "name": "stderr",
     "output_type": "stream",
     "text": [
      " 38%|██████████████████████████████▊                                                  | 48/126 [00:07<00:09,  8.56it/s]"
     ]
    },
    {
     "name": "stdout",
     "output_type": "stream",
     "text": [
      "C:\\Users\\USER\\anaconda3\\envs\\toxpred\\lib\\site-packages\\numpy\\core\\fromnumeric.py:86: RuntimeWarning: overflow encountered in reduce\n",
      "  return ufunc.reduce(obj, axis, dtype, out, **passkwargs)\n",
      "C:\\Users\\USER\\anaconda3\\envs\\toxpred\\lib\\site-packages\\numpy\\core\\fromnumeric.py:86: RuntimeWarning: overflow encountered in reduce\n",
      "  return ufunc.reduce(obj, axis, dtype, out, **passkwargs)\n"
     ]
    },
    {
     "name": "stderr",
     "output_type": "stream",
     "text": [
      " 73%|███████████████████████████████████████████████████████████▏                     | 92/126 [00:10<00:03, 10.25it/s]"
     ]
    },
    {
     "name": "stdout",
     "output_type": "stream",
     "text": [
      "C:\\Users\\USER\\anaconda3\\envs\\toxpred\\lib\\site-packages\\numpy\\core\\fromnumeric.py:86: RuntimeWarning: overflow encountered in reduce\n",
      "  return ufunc.reduce(obj, axis, dtype, out, **passkwargs)\n"
     ]
    },
    {
     "name": "stderr",
     "output_type": "stream",
     "text": [
      "100%|████████████████████████████████████████████████████████████████████████████████| 126/126 [00:11<00:00, 11.03it/s]\n",
      "  2%|█▎                                                                                | 2/126 [00:04<04:42,  2.28s/it]"
     ]
    },
    {
     "name": "stdout",
     "output_type": "stream",
     "text": [
      "C:\\Users\\USER\\anaconda3\\envs\\toxpred\\lib\\site-packages\\numpy\\core\\fromnumeric.py:86: RuntimeWarning: overflow encountered in reduce\n",
      "  return ufunc.reduce(obj, axis, dtype, out, **passkwargs)\n"
     ]
    },
    {
     "name": "stderr",
     "output_type": "stream",
     "text": [
      " 15%|████████████▏                                                                    | 19/126 [00:12<03:33,  1.99s/it]"
     ]
    },
    {
     "name": "stdout",
     "output_type": "stream",
     "text": [
      "C:\\Users\\USER\\anaconda3\\envs\\toxpred\\lib\\site-packages\\numpy\\core\\fromnumeric.py:86: RuntimeWarning: overflow encountered in reduce\n",
      "  return ufunc.reduce(obj, axis, dtype, out, **passkwargs)\n",
      "C:\\Users\\USER\\anaconda3\\envs\\toxpred\\lib\\site-packages\\numpy\\core\\fromnumeric.py:86: RuntimeWarning: overflow encountered in reduce\n",
      "  return ufunc.reduce(obj, axis, dtype, out, **passkwargs)\n",
      "C:\\Users\\USER\\anaconda3\\envs\\toxpred\\lib\\site-packages\\numpy\\core\\fromnumeric.py:86: RuntimeWarning: overflow encountered in reduce\n",
      "  return ufunc.reduce(obj, axis, dtype, out, **passkwargs)\n"
     ]
    },
    {
     "name": "stderr",
     "output_type": "stream",
     "text": [
      " 25%|████████████████████▌                                                            | 32/126 [00:22<01:00,  1.55it/s]"
     ]
    },
    {
     "name": "stdout",
     "output_type": "stream",
     "text": [
      "C:\\Users\\USER\\anaconda3\\envs\\toxpred\\lib\\site-packages\\numpy\\core\\fromnumeric.py:86: RuntimeWarning: overflow encountered in reduce\n",
      "  return ufunc.reduce(obj, axis, dtype, out, **passkwargs)\n",
      "C:\\Users\\USER\\anaconda3\\envs\\toxpred\\lib\\site-packages\\numpy\\core\\fromnumeric.py:86: RuntimeWarning: overflow encountered in reduce\n",
      "  return ufunc.reduce(obj, axis, dtype, out, **passkwargs)\n"
     ]
    },
    {
     "name": "stderr",
     "output_type": "stream",
     "text": [
      "100%|████████████████████████████████████████████████████████████████████████████████| 126/126 [00:32<00:00,  3.92it/s]\n",
      " 30%|████████████████████████▍                                                        | 38/126 [00:04<00:05, 15.14it/s]"
     ]
    },
    {
     "name": "stdout",
     "output_type": "stream",
     "text": [
      "C:\\Users\\USER\\anaconda3\\envs\\toxpred\\lib\\site-packages\\numpy\\core\\fromnumeric.py:86: RuntimeWarning: overflow encountered in reduce\n",
      "  return ufunc.reduce(obj, axis, dtype, out, **passkwargs)\n"
     ]
    },
    {
     "name": "stderr",
     "output_type": "stream",
     "text": [
      " 41%|█████████████████████████████████▍                                               | 52/126 [00:07<00:10,  6.90it/s]"
     ]
    },
    {
     "name": "stdout",
     "output_type": "stream",
     "text": [
      "C:\\Users\\USER\\anaconda3\\envs\\toxpred\\lib\\site-packages\\numpy\\core\\fromnumeric.py:86: RuntimeWarning: overflow encountered in reduce\n",
      "  return ufunc.reduce(obj, axis, dtype, out, **passkwargs)\n",
      "C:\\Users\\USER\\anaconda3\\envs\\toxpred\\lib\\site-packages\\numpy\\core\\fromnumeric.py:86: RuntimeWarning: overflow encountered in reduce\n",
      "  return ufunc.reduce(obj, axis, dtype, out, **passkwargs)\n"
     ]
    },
    {
     "name": "stderr",
     "output_type": "stream",
     "text": [
      " 44%|████████████████████████████████████                                             | 56/126 [00:10<00:13,  5.06it/s]"
     ]
    },
    {
     "name": "stdout",
     "output_type": "stream",
     "text": [
      "C:\\Users\\USER\\anaconda3\\envs\\toxpred\\lib\\site-packages\\numpy\\core\\fromnumeric.py:86: RuntimeWarning: overflow encountered in reduce\n",
      "  return ufunc.reduce(obj, axis, dtype, out, **passkwargs)\n"
     ]
    },
    {
     "name": "stderr",
     "output_type": "stream",
     "text": [
      " 63%|███████████████████████████████████████████████████▍                             | 80/126 [00:12<00:06,  7.23it/s]"
     ]
    },
    {
     "name": "stdout",
     "output_type": "stream",
     "text": [
      "C:\\Users\\USER\\anaconda3\\envs\\toxpred\\lib\\site-packages\\numpy\\core\\fromnumeric.py:86: RuntimeWarning: overflow encountered in reduce\n",
      "  return ufunc.reduce(obj, axis, dtype, out, **passkwargs)\n"
     ]
    },
    {
     "name": "stderr",
     "output_type": "stream",
     "text": [
      " 85%|███████████████████████████████████████████████████████████████████▉            | 107/126 [00:13<00:01, 11.82it/s]"
     ]
    },
    {
     "name": "stdout",
     "output_type": "stream",
     "text": [
      "C:\\Users\\USER\\anaconda3\\envs\\toxpred\\lib\\site-packages\\numpy\\core\\fromnumeric.py:86: RuntimeWarning: overflow encountered in reduce\n",
      "  return ufunc.reduce(obj, axis, dtype, out, **passkwargs)\n"
     ]
    },
    {
     "name": "stderr",
     "output_type": "stream",
     "text": [
      "100%|████████████████████████████████████████████████████████████████████████████████| 126/126 [00:14<00:00,  8.93it/s]\n",
      " 17%|██████████████▏                                                                  | 22/126 [00:04<00:15,  6.63it/s]"
     ]
    },
    {
     "name": "stdout",
     "output_type": "stream",
     "text": [
      "C:\\Users\\USER\\anaconda3\\envs\\toxpred\\lib\\site-packages\\numpy\\core\\fromnumeric.py:86: RuntimeWarning: overflow encountered in reduce\n",
      "  return ufunc.reduce(obj, axis, dtype, out, **passkwargs)\n"
     ]
    },
    {
     "name": "stderr",
     "output_type": "stream",
     "text": [
      " 24%|███████████████████▎                                                             | 30/126 [00:05<00:10,  8.96it/s]"
     ]
    },
    {
     "name": "stdout",
     "output_type": "stream",
     "text": [
      "C:\\Users\\USER\\anaconda3\\envs\\toxpred\\lib\\site-packages\\numpy\\core\\fromnumeric.py:86: RuntimeWarning: overflow encountered in reduce\n",
      "  return ufunc.reduce(obj, axis, dtype, out, **passkwargs)\n"
     ]
    },
    {
     "name": "stderr",
     "output_type": "stream",
     "text": [
      " 32%|█████████████████████████▋                                                       | 40/126 [00:07<00:12,  6.97it/s]"
     ]
    },
    {
     "name": "stdout",
     "output_type": "stream",
     "text": [
      "C:\\Users\\USER\\anaconda3\\envs\\toxpred\\lib\\site-packages\\numpy\\core\\fromnumeric.py:86: RuntimeWarning: overflow encountered in reduce\n",
      "  return ufunc.reduce(obj, axis, dtype, out, **passkwargs)\n"
     ]
    },
    {
     "name": "stderr",
     "output_type": "stream",
     "text": [
      "100%|████████████████████████████████████████████████████████████████████████████████| 126/126 [00:13<00:00,  9.38it/s]\n"
     ]
    },
    {
     "name": "stdout",
     "output_type": "stream",
     "text": [
      "C:\\Users\\USER\\anaconda3\\envs\\toxpred\\lib\\site-packages\\numpy\\core\\fromnumeric.py:86: RuntimeWarning: overflow encountered in reduce\n",
      "  return ufunc.reduce(obj, axis, dtype, out, **passkwargs)\n",
      "C:\\Users\\USER\\anaconda3\\envs\\toxpred\\lib\\site-packages\\numpy\\core\\fromnumeric.py:86: RuntimeWarning: overflow encountered in reduce\n",
      "  return ufunc.reduce(obj, axis, dtype, out, **passkwargs)\n",
      "C:\\Users\\USER\\anaconda3\\envs\\toxpred\\lib\\site-packages\\numpy\\core\\fromnumeric.py:86: RuntimeWarning: overflow encountered in reduce\n",
      "  return ufunc.reduce(obj, axis, dtype, out, **passkwargs)\n"
     ]
    },
    {
     "name": "stderr",
     "output_type": "stream",
     "text": [
      " 18%|██████████████▊                                                                  | 23/126 [00:04<04:21,  2.54s/it]"
     ]
    },
    {
     "name": "stdout",
     "output_type": "stream",
     "text": [
      "C:\\Users\\USER\\anaconda3\\envs\\toxpred\\lib\\site-packages\\numpy\\core\\fromnumeric.py:86: RuntimeWarning: overflow encountered in reduce\n",
      "  return ufunc.reduce(obj, axis, dtype, out, **passkwargs)\n"
     ]
    },
    {
     "name": "stderr",
     "output_type": "stream",
     "text": [
      " 22%|██████████████████                                                               | 28/126 [00:05<00:12,  7.92it/s]"
     ]
    },
    {
     "name": "stdout",
     "output_type": "stream",
     "text": [
      "C:\\Users\\USER\\anaconda3\\envs\\toxpred\\lib\\site-packages\\numpy\\core\\fromnumeric.py:86: RuntimeWarning: overflow encountered in reduce\n",
      "  return ufunc.reduce(obj, axis, dtype, out, **passkwargs)\n"
     ]
    },
    {
     "name": "stderr",
     "output_type": "stream",
     "text": [
      " 30%|████████████████████████▍                                                        | 38/126 [00:05<00:08, 10.92it/s]"
     ]
    },
    {
     "name": "stdout",
     "output_type": "stream",
     "text": [
      "C:\\Users\\USER\\anaconda3\\envs\\toxpred\\lib\\site-packages\\numpy\\core\\fromnumeric.py:86: RuntimeWarning: overflow encountered in reduce\n",
      "  return ufunc.reduce(obj, axis, dtype, out, **passkwargs)\n"
     ]
    },
    {
     "name": "stderr",
     "output_type": "stream",
     "text": [
      " 36%|████████████████████████████▉                                                    | 45/126 [00:07<00:13,  6.03it/s]"
     ]
    },
    {
     "name": "stdout",
     "output_type": "stream",
     "text": [
      "C:\\Users\\USER\\anaconda3\\envs\\toxpred\\lib\\site-packages\\numpy\\core\\fromnumeric.py:86: RuntimeWarning: overflow encountered in reduce\n",
      "  return ufunc.reduce(obj, axis, dtype, out, **passkwargs)\n"
     ]
    },
    {
     "name": "stderr",
     "output_type": "stream",
     "text": [
      " 67%|██████████████████████████████████████████████████████                           | 84/126 [00:09<00:02, 16.97it/s]"
     ]
    },
    {
     "name": "stdout",
     "output_type": "stream",
     "text": [
      "C:\\Users\\USER\\anaconda3\\envs\\toxpred\\lib\\site-packages\\numpy\\core\\fromnumeric.py:86: RuntimeWarning: overflow encountered in reduce\n",
      "  return ufunc.reduce(obj, axis, dtype, out, **passkwargs)\n",
      "C:\\Users\\USER\\anaconda3\\envs\\toxpred\\lib\\site-packages\\numpy\\core\\fromnumeric.py:86: RuntimeWarning: overflow encountered in reduce\n",
      "  return ufunc.reduce(obj, axis, dtype, out, **passkwargs)\n"
     ]
    },
    {
     "name": "stderr",
     "output_type": "stream",
     "text": [
      " 84%|███████████████████████████████████████████████████████████████████▎            | 106/126 [00:16<00:05,  3.41it/s]"
     ]
    },
    {
     "name": "stdout",
     "output_type": "stream",
     "text": [
      "C:\\Users\\USER\\anaconda3\\envs\\toxpred\\lib\\site-packages\\numpy\\core\\fromnumeric.py:86: RuntimeWarning: overflow encountered in reduce\n",
      "  return ufunc.reduce(obj, axis, dtype, out, **passkwargs)\n",
      "C:\\Users\\USER\\anaconda3\\envs\\toxpred\\lib\\site-packages\\numpy\\core\\fromnumeric.py:86: RuntimeWarning: overflow encountered in reduce\n",
      "  return ufunc.reduce(obj, axis, dtype, out, **passkwargs)\n",
      "C:\\Users\\USER\\anaconda3\\envs\\toxpred\\lib\\site-packages\\numpy\\core\\fromnumeric.py:86: RuntimeWarning: overflow encountered in reduce\n",
      "  return ufunc.reduce(obj, axis, dtype, out, **passkwargs)\n"
     ]
    },
    {
     "name": "stderr",
     "output_type": "stream",
     "text": [
      "100%|████████████████████████████████████████████████████████████████████████████████| 126/126 [00:23<00:00,  5.39it/s]\n"
     ]
    },
    {
     "name": "stdout",
     "output_type": "stream",
     "text": [
      "C:\\Users\\USER\\anaconda3\\envs\\toxpred\\lib\\site-packages\\numpy\\core\\fromnumeric.py:86: RuntimeWarning: overflow encountered in reduce\n",
      "  return ufunc.reduce(obj, axis, dtype, out, **passkwargs)\n"
     ]
    },
    {
     "name": "stderr",
     "output_type": "stream",
     "text": [
      " 14%|███████████                                                                      | 17/125 [00:06<02:21,  1.31s/it]"
     ]
    },
    {
     "name": "stdout",
     "output_type": "stream",
     "text": [
      "C:\\Users\\USER\\anaconda3\\envs\\toxpred\\lib\\site-packages\\numpy\\core\\fromnumeric.py:86: RuntimeWarning: overflow encountered in reduce\n",
      "  return ufunc.reduce(obj, axis, dtype, out, **passkwargs)\n",
      "C:\\Users\\USER\\anaconda3\\envs\\toxpred\\lib\\site-packages\\numpy\\core\\fromnumeric.py:86: RuntimeWarning: overflow encountered in reduce\n",
      "  return ufunc.reduce(obj, axis, dtype, out, **passkwargs)\n"
     ]
    },
    {
     "name": "stderr",
     "output_type": "stream",
     "text": [
      " 93%|██████████████████████████████████████████████████████████████████████████▏     | 116/125 [00:14<00:00, 18.82it/s]"
     ]
    },
    {
     "name": "stdout",
     "output_type": "stream",
     "text": [
      "C:\\Users\\USER\\anaconda3\\envs\\toxpred\\lib\\site-packages\\numpy\\core\\fromnumeric.py:86: RuntimeWarning: overflow encountered in reduce\n",
      "  return ufunc.reduce(obj, axis, dtype, out, **passkwargs)\n"
     ]
    },
    {
     "name": "stderr",
     "output_type": "stream",
     "text": [
      "100%|████████████████████████████████████████████████████████████████████████████████| 125/125 [00:14<00:00,  8.53it/s]\n",
      "  5%|███▉                                                                              | 6/125 [00:03<01:23,  1.43it/s]"
     ]
    },
    {
     "name": "stdout",
     "output_type": "stream",
     "text": [
      "C:\\Users\\USER\\anaconda3\\envs\\toxpred\\lib\\site-packages\\numpy\\core\\fromnumeric.py:86: RuntimeWarning: overflow encountered in reduce\n",
      "  return ufunc.reduce(obj, axis, dtype, out, **passkwargs)\n"
     ]
    },
    {
     "name": "stderr",
     "output_type": "stream",
     "text": [
      " 38%|██████████████████████████████▍                                                  | 47/125 [00:07<00:06, 11.71it/s]"
     ]
    },
    {
     "name": "stdout",
     "output_type": "stream",
     "text": [
      "C:\\Users\\USER\\anaconda3\\envs\\toxpred\\lib\\site-packages\\numpy\\core\\fromnumeric.py:86: RuntimeWarning: overflow encountered in reduce\n",
      "  return ufunc.reduce(obj, axis, dtype, out, **passkwargs)\n",
      "C:\\Users\\USER\\anaconda3\\envs\\toxpred\\lib\\site-packages\\numpy\\core\\fromnumeric.py:86: RuntimeWarning: overflow encountered in reduce\n",
      "  return ufunc.reduce(obj, axis, dtype, out, **passkwargs)\n",
      "C:\\Users\\USER\\anaconda3\\envs\\toxpred\\lib\\site-packages\\numpy\\core\\fromnumeric.py:86: RuntimeWarning: overflow encountered in reduce\n",
      "  return ufunc.reduce(obj, axis, dtype, out, **passkwargs)\n",
      "C:\\Users\\USER\\anaconda3\\envs\\toxpred\\lib\\site-packages\\numpy\\core\\fromnumeric.py:86: RuntimeWarning: overflow encountered in reduce\n",
      "  return ufunc.reduce(obj, axis, dtype, out, **passkwargs)\n"
     ]
    },
    {
     "name": "stderr",
     "output_type": "stream",
     "text": [
      " 74%|████████████████████████████████████████████████████████████▎                    | 93/125 [00:12<00:03,  9.76it/s]"
     ]
    },
    {
     "name": "stdout",
     "output_type": "stream",
     "text": [
      "C:\\Users\\USER\\anaconda3\\envs\\toxpred\\lib\\site-packages\\numpy\\core\\fromnumeric.py:86: RuntimeWarning: overflow encountered in reduce\n",
      "  return ufunc.reduce(obj, axis, dtype, out, **passkwargs)\n"
     ]
    },
    {
     "name": "stderr",
     "output_type": "stream",
     "text": [
      "100%|████████████████████████████████████████████████████████████████████████████████| 125/125 [00:13<00:00,  9.51it/s]\n"
     ]
    }
   ],
   "source": [
    "data_val = convert2vec_group(total_validation_data)# fold x numberdata x number features(2 x 1) descriptor and fing                \n",
    "data_val_Desc=  data_val[0]\n",
    "data_val_ECFP2=  data_val[1]\n",
    "data_val_PubChem=  data_val[2]\n",
    "data_val_MACCS=  data_val[3]"
   ]
  },
  {
   "cell_type": "code",
   "execution_count": 15,
   "id": "043489bc",
   "metadata": {},
   "outputs": [
    {
     "data": {
      "text/plain": [
       "1"
      ]
     },
     "execution_count": 15,
     "metadata": {},
     "output_type": "execute_result"
    }
   ],
   "source": [
    "len(list_X_smiles_test)\n",
    "one_set_data_test = []\n",
    "one_set_data_test.append(list_X_smiles_test)\n",
    "len(one_set_data_test)"
   ]
  },
  {
   "cell_type": "code",
   "execution_count": 16,
   "id": "ab2ff7cb",
   "metadata": {},
   "outputs": [
    {
     "name": "stderr",
     "output_type": "stream",
     "text": [
      " 10%|████████▍                                                                        | 33/315 [00:04<01:35,  2.95it/s]"
     ]
    },
    {
     "name": "stdout",
     "output_type": "stream",
     "text": [
      "C:\\Users\\USER\\anaconda3\\envs\\toxpred\\lib\\site-packages\\numpy\\core\\fromnumeric.py:86: RuntimeWarning: overflow encountered in reduce\n",
      "  return ufunc.reduce(obj, axis, dtype, out, **passkwargs)\n",
      "C:\\Users\\USER\\anaconda3\\envs\\toxpred\\lib\\site-packages\\numpy\\core\\fromnumeric.py:86: RuntimeWarning: overflow encountered in reduce\n",
      "  return ufunc.reduce(obj, axis, dtype, out, **passkwargs)\n",
      "C:\\Users\\USER\\anaconda3\\envs\\toxpred\\lib\\site-packages\\numpy\\core\\fromnumeric.py:86: RuntimeWarning: overflow encountered in reduce\n",
      "  return ufunc.reduce(obj, axis, dtype, out, **passkwargs)\n"
     ]
    },
    {
     "name": "stderr",
     "output_type": "stream",
     "text": [
      " 17%|█████████████▋                                                                   | 53/315 [00:07<00:33,  7.76it/s]"
     ]
    },
    {
     "name": "stdout",
     "output_type": "stream",
     "text": [
      "C:\\Users\\USER\\anaconda3\\envs\\toxpred\\lib\\site-packages\\numpy\\core\\fromnumeric.py:86: RuntimeWarning: overflow encountered in reduce\n",
      "  return ufunc.reduce(obj, axis, dtype, out, **passkwargs)\n"
     ]
    },
    {
     "name": "stderr",
     "output_type": "stream",
     "text": [
      " 31%|█████████████████████████▏                                                       | 98/315 [00:11<00:20, 10.68it/s]"
     ]
    },
    {
     "name": "stdout",
     "output_type": "stream",
     "text": [
      "C:\\Users\\USER\\anaconda3\\envs\\toxpred\\lib\\site-packages\\numpy\\core\\fromnumeric.py:86: RuntimeWarning: overflow encountered in reduce\n",
      "  return ufunc.reduce(obj, axis, dtype, out, **passkwargs)\n",
      "C:\\Users\\USER\\anaconda3\\envs\\toxpred\\lib\\site-packages\\numpy\\core\\fromnumeric.py:86: RuntimeWarning: overflow encountered in reduce\n",
      "  return ufunc.reduce(obj, axis, dtype, out, **passkwargs)\n",
      "C:\\Users\\USER\\anaconda3\\envs\\toxpred\\lib\\site-packages\\numpy\\core\\fromnumeric.py:86: RuntimeWarning: overflow encountered in reduce\n",
      "  return ufunc.reduce(obj, axis, dtype, out, **passkwargs)\n"
     ]
    },
    {
     "name": "stderr",
     "output_type": "stream",
     "text": [
      " 35%|███████████████████████████▉                                                    | 110/315 [00:12<00:16, 12.10it/s]"
     ]
    },
    {
     "name": "stdout",
     "output_type": "stream",
     "text": [
      "C:\\Users\\USER\\anaconda3\\envs\\toxpred\\lib\\site-packages\\numpy\\core\\fromnumeric.py:86: RuntimeWarning: overflow encountered in reduce\n",
      "  return ufunc.reduce(obj, axis, dtype, out, **passkwargs)\n"
     ]
    },
    {
     "name": "stderr",
     "output_type": "stream",
     "text": [
      " 53%|██████████████████████████████████████████▍                                     | 167/315 [00:28<00:28,  5.21it/s]"
     ]
    },
    {
     "name": "stdout",
     "output_type": "stream",
     "text": [
      "C:\\Users\\USER\\anaconda3\\envs\\toxpred\\lib\\site-packages\\numpy\\core\\fromnumeric.py:86: RuntimeWarning: overflow encountered in reduce\n",
      "  return ufunc.reduce(obj, axis, dtype, out, **passkwargs)\n",
      "C:\\Users\\USER\\anaconda3\\envs\\toxpred\\lib\\site-packages\\numpy\\core\\fromnumeric.py:86: RuntimeWarning: overflow encountered in reduce\n",
      "  return ufunc.reduce(obj, axis, dtype, out, **passkwargs)\n",
      "C:\\Users\\USER\\anaconda3\\envs\\toxpred\\lib\\site-packages\\numpy\\core\\fromnumeric.py:86: RuntimeWarning: overflow encountered in reduce\n",
      "  return ufunc.reduce(obj, axis, dtype, out, **passkwargs)\n"
     ]
    },
    {
     "name": "stderr",
     "output_type": "stream",
     "text": [
      " 65%|███████████████████████████████████████████████████▊                            | 204/315 [00:36<00:28,  3.83it/s]"
     ]
    },
    {
     "name": "stdout",
     "output_type": "stream",
     "text": [
      "C:\\Users\\USER\\anaconda3\\envs\\toxpred\\lib\\site-packages\\mordred\\_matrix_attributes.py:251: RuntimeWarning: invalid value encountered in double_scalars\n",
      "  s += (eig.vec[i, eig.max] * eig.vec[j, eig.max]) ** -0.5\n"
     ]
    },
    {
     "name": "stderr",
     "output_type": "stream",
     "text": [
      " 69%|██████████████████████████████████████████████████████▊                         | 216/315 [00:36<00:18,  5.41it/s]"
     ]
    },
    {
     "name": "stdout",
     "output_type": "stream",
     "text": [
      "C:\\Users\\USER\\anaconda3\\envs\\toxpred\\lib\\site-packages\\numpy\\core\\fromnumeric.py:86: RuntimeWarning: overflow encountered in reduce\n",
      "  return ufunc.reduce(obj, axis, dtype, out, **passkwargs)\n"
     ]
    },
    {
     "name": "stderr",
     "output_type": "stream",
     "text": [
      "100%|████████████████████████████████████████████████████████████████████████████████| 315/315 [00:49<00:00,  6.33it/s]\n"
     ]
    }
   ],
   "source": [
    "\n",
    "data_test = convert2vec_group(one_set_data_test)# fold x numberdata x number features(2 x 1) descriptor and fing                \n",
    "data_test_Desc=  data_test[0]\n",
    "data_test_ECFP2=  data_test[1]\n",
    "data_test_PubChem=  data_test[2]\n",
    "data_test_MACCS=  data_test[3]"
   ]
  },
  {
   "cell_type": "markdown",
   "id": "9feca506",
   "metadata": {},
   "source": [
    "# 1. Data Repairing \n",
    "## finding the not number value and replace it with zero value \n",
    "## finding also Nan number value and replace it also with zero value"
   ]
  },
  {
   "cell_type": "code",
   "execution_count": 17,
   "id": "49203eb6",
   "metadata": {},
   "outputs": [],
   "source": [
    "import numbers\n",
    "import math \n",
    "def coerce_to_numeric(value):\n",
    "    if isinstance(value, numbers.Number) and math.isnan(value)==False:\n",
    "        return value\n",
    "    else:\n",
    "        return 0\n",
    "\n",
    "# Returns a cleaned version of df[col1]\n",
    "#clean_col = df[col1].apply(coerce_to_numeric)\n",
    "#for data in descriptors_train.loc[0]:\n",
    "#    print(coerce_to_numeric(data))\n",
    "\n",
    "# input is list of descriptors and change it into data list\n",
    "def find_notnumber_n_replace(descriptors):\n",
    "    list_data= []\n",
    "    for j in range(len(descriptors)):\n",
    "        one_feature=[]\n",
    "        for data in descriptors.loc[j]:\n",
    "            clean_data = coerce_to_numeric(data)\n",
    "            one_feature.append(clean_data)\n",
    "        list_data.append(one_feature)\n",
    "    return list_data"
   ]
  },
  {
   "cell_type": "code",
   "execution_count": 18,
   "id": "12c5354f",
   "metadata": {},
   "outputs": [],
   "source": [
    "# REPAIR ALL DATA\n",
    "# data repairing only used for descriptor type data\n",
    "def repair_data(total_vec_data):\n",
    "    total_data=[]\n",
    "    if len(total_vec_data)>2 :\n",
    "        for data_fold in total_vec_data:\n",
    "            list_data = find_notnumber_n_replace(data_fold)\n",
    "            total_data.append(list_data)\n",
    "    else :\n",
    "\n",
    "        list_data = find_notnumber_n_replace(total_vec_data[0])\n",
    "        total_data.append(list_data)\n",
    "    return total_data\n",
    "\n",
    "#descriptors = data_vec_train[0][0] # descriptor in fold 0\n",
    "#list_data = find_notnumber_n_replace(descriptors)"
   ]
  },
  {
   "cell_type": "code",
   "execution_count": 19,
   "id": "65910af8",
   "metadata": {},
   "outputs": [
    {
     "data": {
      "text/plain": [
       "1"
      ]
     },
     "execution_count": 19,
     "metadata": {},
     "output_type": "execute_result"
    }
   ],
   "source": [
    "len(data_test_Desc)"
   ]
  },
  {
   "cell_type": "code",
   "execution_count": 20,
   "id": "ee18937e",
   "metadata": {},
   "outputs": [],
   "source": [
    "data_train_Desc1 = repair_data(data_train_Desc)\n",
    "data_val_Desc1 = repair_data(data_val_Desc)\n",
    "data_test_Desc1 = repair_data(data_test_Desc)"
   ]
  },
  {
   "cell_type": "markdown",
   "id": "3cfd4dc2",
   "metadata": {},
   "source": [
    "# 3. Standarization (Max-Min Scaler)\n",
    "only DESCRIPTOR that would be standardize \n",
    "\n",
    "\n",
    "the FINGERPRINTS have binary value 0 and 1 , dont need to be scaled"
   ]
  },
  {
   "cell_type": "code",
   "execution_count": 21,
   "id": "1bdf146e",
   "metadata": {},
   "outputs": [],
   "source": [
    "from sklearn.preprocessing import StandardScaler, Normalizer, MinMaxScaler\n",
    "from sklearn.model_selection import train_test_split\n",
    "\n",
    "# scale only descriptor \n",
    "# chi square test need positive data "
   ]
  },
  {
   "cell_type": "code",
   "execution_count": 22,
   "id": "6cc2a795",
   "metadata": {},
   "outputs": [],
   "source": [
    "#Normalizer = Normalizer()\n",
    "Scaler = MinMaxScaler()"
   ]
  },
  {
   "cell_type": "code",
   "execution_count": 23,
   "id": "b1a679da",
   "metadata": {},
   "outputs": [],
   "source": [
    "# join only the descriptor \n",
    "filtered_desc_train = np.concatenate((data_train_Desc1[0],data_val_Desc1[0]),axis =0)"
   ]
  },
  {
   "cell_type": "code",
   "execution_count": 24,
   "id": "6f11618f",
   "metadata": {},
   "outputs": [],
   "source": [
    "scaler1       = Scaler.fit(filtered_desc_train)\n",
    "\n",
    "scaled_desc_train=[]\n",
    "scaled_desc_val=[]\n",
    "for data_train,data_val in zip (data_train_Desc1, data_val_Desc1): \n",
    "    scaled_desc_train.append(scaler1.transform(data_train))\n",
    "    scaled_desc_val.append(scaler1.transform(data_val))\n",
    "    \n",
    "scaled_desc_test = scaler1.transform(data_test_Desc1[0])"
   ]
  },
  {
   "cell_type": "code",
   "execution_count": 25,
   "id": "e82000b5",
   "metadata": {},
   "outputs": [
    {
     "data": {
      "text/plain": [
       "315"
      ]
     },
     "execution_count": 25,
     "metadata": {},
     "output_type": "execute_result"
    }
   ],
   "source": [
    "len(scaled_desc_test)"
   ]
  },
  {
   "cell_type": "markdown",
   "id": "bd56960d",
   "metadata": {},
   "source": [
    "# 5. Create Graph Data "
   ]
  },
  {
   "cell_type": "code",
   "execution_count": 26,
   "id": "5750454b",
   "metadata": {},
   "outputs": [],
   "source": [
    "# RDkit\n",
    "from rdkit import Chem\n",
    "from rdkit.Chem.rdmolops import GetAdjacencyMatrix\n",
    "# Pytorch and Pytorch Geometric\n",
    "import torch\n",
    "\n",
    "import torch.nn as nn\n",
    "from torch.nn import Linear\n",
    "import torch.optim as optim\n",
    "import torch.nn.functional as F # activation function\n",
    "from torch.utils.data import Dataset, DataLoader # dataset management"
   ]
  },
  {
   "cell_type": "code",
   "execution_count": 27,
   "id": "cb34d5cc",
   "metadata": {},
   "outputs": [],
   "source": [
    "# CONVERT THE DATASET INTO GRAPH STRUCTURED DATA \n",
    "# BOTH DATA_TRAIN AND DATA_VALIDATION ARE PREPARED IN GRAPH STRUCTURED DATA \n",
    "#=============================================================================================\n",
    "data_list_train = []\n",
    "data_list_val =[]\n",
    "for X_train,y_train,X_val,y_val in zip(total_train_data, total_train_targets, total_validation_data, total_validation_targets):\n",
    "    data_graph_train = create_pytorch_geometric_graph_data_list_from_smiles_and_labels(X_train, y_train)\n",
    "    data_graph_val   = create_pytorch_geometric_graph_data_list_from_smiles_and_labels(X_val, y_val)\n",
    "    \n",
    "    data_list_train.append(data_graph_train)\n",
    "    data_list_val.append(data_graph_val)\n",
    "\n",
    "    \n",
    "# INDEPENDENT DATASET IN GRAPH STRUCTURED DATA\n",
    "#===========================================================================================\n",
    "x_smiles = list_X_smiles_test\n",
    "y = list_y_smiles_test\n",
    "\n",
    "data_list_test = create_pytorch_geometric_graph_data_list_from_smiles_and_labels(x_smiles, y)"
   ]
  },
  {
   "cell_type": "markdown",
   "id": "b5dac349",
   "metadata": {},
   "source": [
    "# 6. Save the preprocessed data "
   ]
  },
  {
   "cell_type": "code",
   "execution_count": 28,
   "id": "e4083cbc",
   "metadata": {},
   "outputs": [],
   "source": [
    "# save descriptors \n",
    "# save in numpy format \n",
    "np.save('final_clean_desc_train0.npy',scaled_desc_train[0])\n",
    "np.save('final_clean_desc_train1.npy',scaled_desc_train[1])\n",
    "np.save('final_clean_desc_train2.npy',scaled_desc_train[2])\n",
    "np.save('final_clean_desc_train3.npy',scaled_desc_train[3])\n",
    "np.save('final_clean_desc_train4.npy',scaled_desc_train[4])\n",
    "np.save('final_clean_desc_train5.npy',scaled_desc_train[5])\n",
    "np.save('final_clean_desc_train6.npy',scaled_desc_train[6])\n",
    "np.save('final_clean_desc_train7.npy',scaled_desc_train[7])\n",
    "np.save('final_clean_desc_train8.npy',scaled_desc_train[8])\n",
    "np.save('final_clean_desc_train9.npy',scaled_desc_train[9])\n",
    "# save the data vector \n",
    "# this is saved in numpy data \n",
    "np.save('final_clean_desc_val0.npy',scaled_desc_val[0])\n",
    "np.save('final_clean_desc_val1.npy',scaled_desc_val[1])\n",
    "np.save('final_clean_desc_val2.npy',scaled_desc_val[2])\n",
    "np.save('final_clean_desc_val3.npy',scaled_desc_val[3])\n",
    "np.save('final_clean_desc_val4.npy',scaled_desc_val[4])\n",
    "np.save('final_clean_desc_val5.npy',scaled_desc_val[5])\n",
    "np.save('final_clean_desc_val6.npy',scaled_desc_val[6])\n",
    "np.save('final_clean_desc_val7.npy',scaled_desc_val[7])\n",
    "np.save('final_clean_desc_val8.npy',scaled_desc_val[8])\n",
    "np.save('final_clean_desc_val9.npy',scaled_desc_val[9])\n",
    "\n",
    "np.save('final_clean_desc_test.npy',scaled_desc_test)"
   ]
  },
  {
   "cell_type": "code",
   "execution_count": 29,
   "id": "2a0466de",
   "metadata": {},
   "outputs": [],
   "source": [
    "# data for fingerprint_ECFP2\n",
    "np.save('final_clean_fingerp_ECFP2_train0.npy',data_train_ECFP2[0])\n",
    "np.save('final_clean_fingerp_ECFP2_train1.npy',data_train_ECFP2[1])\n",
    "np.save('final_clean_fingerp_ECFP2_train2.npy',data_train_ECFP2[2])\n",
    "np.save('final_clean_fingerp_ECFP2_train3.npy',data_train_ECFP2[3])\n",
    "np.save('final_clean_fingerp_ECFP2_train4.npy',data_train_ECFP2[4])\n",
    "np.save('final_clean_fingerp_ECFP2_train5.npy',data_train_ECFP2[5])\n",
    "np.save('final_clean_fingerp_ECFP2_train6.npy',data_train_ECFP2[6])\n",
    "np.save('final_clean_fingerp_ECFP2_train7.npy',data_train_ECFP2[7])\n",
    "np.save('final_clean_fingerp_ECFP2_train8.npy',data_train_ECFP2[8])\n",
    "np.save('final_clean_fingerp_ECFP2_train9.npy',data_train_ECFP2[9])\n",
    "\n",
    "# save the data vector \n",
    "# this is saved in numpy data \n",
    "np.save('final_clean_fingerp_ECFP2_val0.npy',data_val_ECFP2[0])\n",
    "np.save('final_clean_fingerp_ECFP2_val1.npy',data_val_ECFP2[1])\n",
    "np.save('final_clean_fingerp_ECFP2_val2.npy',data_val_ECFP2[2])\n",
    "np.save('final_clean_fingerp_ECFP2_val3.npy',data_val_ECFP2[3])\n",
    "np.save('final_clean_fingerp_ECFP2_val4.npy',data_val_ECFP2[4])\n",
    "np.save('final_clean_fingerp_ECFP2_val5.npy',data_val_ECFP2[5])\n",
    "np.save('final_clean_fingerp_ECFP2_val6.npy',data_val_ECFP2[6])\n",
    "np.save('final_clean_fingerp_ECFP2_val7.npy',data_val_ECFP2[7])\n",
    "np.save('final_clean_fingerp_ECFP2_val8.npy',data_val_ECFP2[8])\n",
    "np.save('final_clean_fingerp_ECFP2_val9.npy',data_val_ECFP2[9])\n",
    "\n",
    "np.save('final_clean_fingerp_ECFP2_test.npy',data_test_ECFP2)"
   ]
  },
  {
   "cell_type": "code",
   "execution_count": 31,
   "id": "b74d949b",
   "metadata": {},
   "outputs": [],
   "source": [
    "# data for fingerprint_PubChem\n",
    "np.save('final_clean_fingerp_PubChem_train0.npy',data_train_PubChem[0])\n",
    "np.save('final_clean_fingerp_PubChem_train1.npy',data_train_PubChem[1])\n",
    "np.save('final_clean_fingerp_PubChem_train2.npy',data_train_PubChem[2])\n",
    "np.save('final_clean_fingerp_PubChem_train3.npy',data_train_PubChem[3])\n",
    "np.save('final_clean_fingerp_PubChem_train4.npy',data_train_PubChem[4])\n",
    "np.save('final_clean_fingerp_PubChem_train5.npy',data_train_PubChem[5])\n",
    "np.save('final_clean_fingerp_PubChem_train6.npy',data_train_PubChem[6])\n",
    "np.save('final_clean_fingerp_PubChem_train7.npy',data_train_PubChem[7])\n",
    "np.save('final_clean_fingerp_PubChem_train8.npy',data_train_PubChem[8])\n",
    "np.save('final_clean_fingerp_PubChem_train9.npy',data_train_PubChem[9])\n",
    "\n",
    "# save the data vector \n",
    "# this is saved in numpy data \n",
    "np.save('final_clean_fingerp_PubChem_val0.npy',data_val_PubChem[0])\n",
    "np.save('final_clean_fingerp_PubChem_val1.npy',data_val_PubChem[1])\n",
    "np.save('final_clean_fingerp_PubChem_val2.npy',data_val_PubChem[2])\n",
    "np.save('final_clean_fingerp_PubChem_val3.npy',data_val_PubChem[3])\n",
    "np.save('final_clean_fingerp_PubChem_val4.npy',data_val_PubChem[4])\n",
    "np.save('final_clean_fingerp_PubChem_val5.npy',data_val_PubChem[5])\n",
    "np.save('final_clean_fingerp_PubChem_val6.npy',data_val_PubChem[6])\n",
    "np.save('final_clean_fingerp_PubChem_val7.npy',data_val_PubChem[7])\n",
    "np.save('final_clean_fingerp_PubChem_val8.npy',data_val_PubChem[8])\n",
    "np.save('final_clean_fingerp_PubChem_val9.npy',data_val_PubChem[9])\n",
    "\n",
    "np.save('final_clean_fingerp_PubChem_test.npy',data_test_PubChem)"
   ]
  },
  {
   "cell_type": "code",
   "execution_count": 32,
   "id": "0c381836",
   "metadata": {},
   "outputs": [],
   "source": [
    "# data for fingerprint_MACCS\n",
    "np.save('final_clean_fingerp_MACCS_train0.npy',data_train_MACCS[0])\n",
    "np.save('final_clean_fingerp_MACCS_train1.npy',data_train_MACCS[1])\n",
    "np.save('final_clean_fingerp_MACCS_train2.npy',data_train_MACCS[2])\n",
    "np.save('final_clean_fingerp_MACCS_train3.npy',data_train_MACCS[3])\n",
    "np.save('final_clean_fingerp_MACCS_train4.npy',data_train_MACCS[4])\n",
    "np.save('final_clean_fingerp_MACCS_train5.npy',data_train_MACCS[5])\n",
    "np.save('final_clean_fingerp_MACCS_train6.npy',data_train_MACCS[6])\n",
    "np.save('final_clean_fingerp_MACCS_train7.npy',data_train_MACCS[7])\n",
    "np.save('final_clean_fingerp_MACCS_train8.npy',data_train_MACCS[8])\n",
    "np.save('final_clean_fingerp_MACCS_train9.npy',data_train_MACCS[9])\n",
    "\n",
    "# save the data vector \n",
    "# this is saved in numpy data \n",
    "np.save('final_clean_fingerp_MACCS_val0.npy',data_val_MACCS[0])\n",
    "np.save('final_clean_fingerp_MACCS_val1.npy',data_val_MACCS[1])\n",
    "np.save('final_clean_fingerp_MACCS_val2.npy',data_val_MACCS[2])\n",
    "np.save('final_clean_fingerp_MACCS_val3.npy',data_val_MACCS[3])\n",
    "np.save('final_clean_fingerp_MACCS_val4.npy',data_val_MACCS[4])\n",
    "np.save('final_clean_fingerp_MACCS_val5.npy',data_val_MACCS[5])\n",
    "np.save('final_clean_fingerp_MACCS_val6.npy',data_val_MACCS[6])\n",
    "np.save('final_clean_fingerp_MACCS_val7.npy',data_val_MACCS[7])\n",
    "np.save('final_clean_fingerp_MACCS_val8.npy',data_val_MACCS[8])\n",
    "np.save('final_clean_fingerp_MACCS_val9.npy',data_val_MACCS[9])\n",
    "\n",
    "np.save('final_clean_fingerp_MACCS_test.npy',data_test_MACCS)"
   ]
  },
  {
   "cell_type": "code",
   "execution_count": 33,
   "id": "dd9f4435",
   "metadata": {},
   "outputs": [],
   "source": [
    "import os\n",
    "# save data train\n",
    "for i in range(10):\n",
    "    path = './data_train_' + str(i)\n",
    "    # create new single directory\n",
    "    os.mkdir(path)\n",
    "    for idx, tensor in enumerate(data_list_train[i]):\n",
    "        torch.save(tensor, f\"data_train_{i}/tensor{idx}.pt\")\n",
    "\n",
    "# save data validation        \n",
    "for i in range(10):\n",
    "    path = './data_val_' + str(i)\n",
    "    # create new single directory\n",
    "    os.mkdir(path)\n",
    "    for idx, tensor in enumerate(data_list_val[i]):\n",
    "        torch.save(tensor, f\"data_val_{i}/tensor{idx}.pt\")\n",
    "        \n",
    "# save data test \n",
    "path = './data_test' \n",
    "# create new single directory\n",
    "os.mkdir(path)\n",
    "for idx, tensor in enumerate(data_list_test):\n",
    "    torch.save(tensor, f\"data_test/tensor{idx}.pt\")"
   ]
  },
  {
   "cell_type": "code",
   "execution_count": 34,
   "id": "2658cfdd",
   "metadata": {},
   "outputs": [],
   "source": [
    "# save the target \n",
    "# save the label also \n",
    "# save the data vector (only use variance threshold)\n",
    "# this is saved in numpy data \n",
    "np.save('total_train_targets0.npy',total_train_targets[0])\n",
    "np.save('total_train_targets1.npy',total_train_targets[1])\n",
    "np.save('total_train_targets2.npy',total_train_targets[2])\n",
    "np.save('total_train_targets3.npy',total_train_targets[3])\n",
    "np.save('total_train_targets4.npy',total_train_targets[4])\n",
    "np.save('total_train_targets5.npy',total_train_targets[5])\n",
    "np.save('total_train_targets6.npy',total_train_targets[6])\n",
    "np.save('total_train_targets7.npy',total_train_targets[7])\n",
    "np.save('total_train_targets8.npy',total_train_targets[8])\n",
    "np.save('total_train_targets9.npy',total_train_targets[9])\n",
    "\n",
    "# save the data vector \n",
    "# this is saved in numpy data \n",
    "np.save('total_validation_targets0.npy',total_validation_targets[0])\n",
    "np.save('total_validation_targets1.npy',total_validation_targets[1])\n",
    "np.save('total_validation_targets2.npy',total_validation_targets[2])\n",
    "np.save('total_validation_targets3.npy',total_validation_targets[3])\n",
    "np.save('total_validation_targets4.npy',total_validation_targets[4])\n",
    "np.save('total_validation_targets5.npy',total_validation_targets[5])\n",
    "np.save('total_validation_targets6.npy',total_validation_targets[6])\n",
    "np.save('total_validation_targets7.npy',total_validation_targets[7])\n",
    "np.save('total_validation_targets8.npy',total_validation_targets[8])\n",
    "np.save('total_validation_targets9.npy',total_validation_targets[9])\n",
    "\n",
    "\n",
    "total_test_targets = np.array(list_y_smiles_test)\n",
    "np.save('total_test_targets.npy',total_test_targets)"
   ]
  },
  {
   "cell_type": "code",
   "execution_count": null,
   "id": "fdb5f2f0",
   "metadata": {},
   "outputs": [],
   "source": []
  }
 ],
 "metadata": {
  "kernelspec": {
   "display_name": "Python 3 (ipykernel)",
   "language": "python",
   "name": "python3"
  },
  "language_info": {
   "codemirror_mode": {
    "name": "ipython",
    "version": 3
   },
   "file_extension": ".py",
   "mimetype": "text/x-python",
   "name": "python",
   "nbconvert_exporter": "python",
   "pygments_lexer": "ipython3",
   "version": "3.7.12"
  }
 },
 "nbformat": 4,
 "nbformat_minor": 5
}
